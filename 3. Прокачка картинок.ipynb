{
 "cells": [
  {
   "cell_type": "code",
   "execution_count": 8,
   "id": "widespread-begin",
   "metadata": {},
   "outputs": [],
   "source": [
    "from nile.api.v1 import (\n",
    "    clusters,\n",
    "    aggregators as na\n",
    ")\n",
    "\n",
    "import seaborn as sns\n",
    "import numpy as np\n",
    "import pandas as pd\n",
    "import matplotlib.pyplot as plt\n",
    "import requests as r\n",
    "\n",
    "import matplotlib.pyplot as plt\n",
    "import matplotlib.image as mpimg\n",
    "\n",
    "from PIL import Image\n",
    "import requests\n",
    "from io import BytesIO\n",
    "\n",
    "sns.set()\n",
    "pd.set_option('display.min_rows', 50)\n",
    "cluster = clusters.Hahn()"
   ]
  },
  {
   "cell_type": "markdown",
   "id": "norman-pennsylvania",
   "metadata": {},
   "source": [
    "# 0. Загрузка таблиц"
   ]
  },
  {
   "cell_type": "code",
   "execution_count": 2,
   "id": "unavailable-authentication",
   "metadata": {},
   "outputs": [],
   "source": [
    "path = '//home/images/dev/spochukaev/hse_diploma/image_classification'\n",
    "image_class = cluster.read(path).as_dataframe()\n",
    "\n",
    "path = '//home/images/dev/spochukaev/hse_diploma/image_classification_all_honeypots'\n",
    "image_all = cluster.read(path).as_dataframe()\n",
    "\n",
    "path = '//home/images/dev/spochukaev/hse_diploma/text_classification'\n",
    "text_class = cluster.read(path).as_dataframe()\n",
    "\n",
    "path = '//home/images/dev/spochukaev/hse_diploma/text_classification_all_honeypots'\n",
    "text_all = cluster.read(path).as_dataframe()"
   ]
  },
  {
   "cell_type": "code",
   "execution_count": 3,
   "id": "suspended-mobility",
   "metadata": {},
   "outputs": [],
   "source": [
    "# при выгрузке колонки с текстом выгружаются в binary формате\n",
    "image_class['aggr_answer'] = image_class['aggr_answer'].str.decode('utf8')\n",
    "image_class['assessors_answer'] = image_class['assessors_answer'].str.decode('utf8')\n",
    "image_class['some_answer'] = image_class['some_answer'].str.decode('utf8')\n",
    "image_class['query'] = image_class['query'].str.decode('utf8')\n",
    "\n",
    "text_class['aggr_answer'] = text_class['aggr_answer'].str.decode('utf8')\n",
    "text_class['assessors_answer'] = text_class['assessors_answer'].str.decode('utf8')\n",
    "text_class['some_answer'] = text_class['some_answer'].str.decode('utf8')\n",
    "text_class['query'] = text_class['query'].str.decode('utf8')\n",
    "text_class['related_query'] = text_class['related_query'].str.decode('utf8')\n",
    "\n",
    "image_all['assessors_answer'] = image_all['assessors_answer'].str.decode('utf8')\n",
    "image_all['query'] = image_all['query'].str.decode('utf8')\n",
    "\n",
    "text_all['assessors_answer'] = text_all['assessors_answer'].str.decode('utf8')\n",
    "text_all['query'] = text_all['query'].str.decode('utf8')\n",
    "text_all['related_query'] = text_all['related_query'].str.decode('utf8')"
   ]
  },
  {
   "cell_type": "markdown",
   "id": "polish-check",
   "metadata": {},
   "source": [
    "### 1. Прокачка картинок"
   ]
  },
  {
   "cell_type": "code",
   "execution_count": 20,
   "id": "limiting-working",
   "metadata": {},
   "outputs": [
    {
     "data": {
      "text/plain": [
       "'/home/spochukaev/Hse диплом'"
      ]
     },
     "execution_count": 20,
     "metadata": {},
     "output_type": "execute_result"
    }
   ],
   "source": [
    "import os\n",
    "os.getcwd()"
   ]
  },
  {
   "cell_type": "code",
   "execution_count": null,
   "id": "concrete-singer",
   "metadata": {},
   "outputs": [
    {
     "name": "stdout",
     "output_type": "stream",
     "text": [
      "http://storage.mds.yandex.net:80/get-mimcache/26008/60ba42275073dd8549dc44864e6faee3\n",
      "http://storage.mds.yandex.net:80/get-mimcache/120032/83d949319df81c654a73461757c7b437\n",
      "http://storage.mds.yandex.net:80/get-mimcache/117736/fc520981e664e86e292882a0935b7383\n",
      "http://storage.mds.yandex.net:80/get-mimcache/44885/04244eb06c7d8ea8f0b91e00c4850879\n",
      "http://storage.mds.yandex.net:80/get-mimcache/47687/3b4cee0677688cbc0d113dfc671e7970\n",
      "http://storage.mds.yandex.net:80/get-mimcache/109977/7072ebfbad82a9fb291ad7bfdcb615bd\n",
      "http://storage.mds.yandex.net:80/get-mimcache/113965/02fdb461b72657d2c27048ae212ed26b\n",
      "http://storage.mds.yandex.net:80/get-mimcache/117819/9b514692b94fd8793f94b4d9b76b99ee\n"
     ]
    },
    {
     "name": "stderr",
     "output_type": "stream",
     "text": [
      "/usr/local/lib/python3.7/dist-packages/PIL/Image.py:963: UserWarning: Palette images with Transparency expressed in bytes should be converted to RGBA images\n",
      "  \"Palette images with Transparency expressed in bytes should be \"\n"
     ]
    },
    {
     "name": "stdout",
     "output_type": "stream",
     "text": [
      "http://storage.mds.yandex.net:80/get-mimcache/103011/9cb3ffa014d7add7fbc45ad11baa84b7\n",
      "http://storage.mds.yandex.net:80/get-mimcache/62351/c9ec4200d9708656b332ebc179bd2d1f\n",
      "http://storage.mds.yandex.net:80/get-mimcache/109112/5cbb73bb3cf984e8098e802c085b5fb4\n",
      "http://storage.mds.yandex.net:80/get-mimcache/44885/751c6eef25163aa4bb1573dde3dcb9f9\n"
     ]
    },
    {
     "name": "stderr",
     "output_type": "stream",
     "text": [
      "/usr/local/lib/python3.7/dist-packages/PIL/TiffImagePlugin.py:793: UserWarning: Corrupt EXIF data.  Expecting to read 4 bytes but only got 0. \n",
      "  warnings.warn(str(msg))\n"
     ]
    },
    {
     "name": "stdout",
     "output_type": "stream",
     "text": [
      "http://storage.mds.yandex.net:80/get-mimcache/132655/ee3b9588434b7c6250576e7b38f52b3e\n",
      "http://storage.mds.yandex.net:80/get-mimcache/145081/2d429af0b275aac13e2837fc72258b2d\n",
      "http://storage.mds.yandex.net:80/get-mimcache/132655/46dd5648b7c74734cff5c45dcbd42b4e\n",
      "http://storage.mds.yandex.net:80/get-mimcache/48333/a6fc683ceaae76666d0004b1e403f71b\n",
      "http://storage.mds.yandex.net:80/get-mimcache/109977/ae84731e4bb7fdcad33723c98c386256\n",
      "http://storage.mds.yandex.net:80/get-mimcache/48914/71b80ff538418b94b4384bdb549b84b7\n",
      "http://storage.mds.yandex.net:80/get-mimcache/62351/872469a1a61fc5674fb168690e340bcc\n",
      "http://storage.mds.yandex.net:80/get-mimcache/62351/8a716f3af542afedbdc432e4facc64cf\n",
      "http://storage.mds.yandex.net:80/get-mimcache/51679/33a342566034dfc33c0fe32272190a75\n",
      "http://storage.mds.yandex.net:80/get-mimcache/118897/afce4cbea94dd3e631c7522bd1cb67c8\n",
      "http://storage.mds.yandex.net:80/get-mimcache/145081/0508ddca8c1b7e1d83be970bad73fff6\n",
      "http://storage.mds.yandex.net:80/get-mimcache/53042/0cf672f8ab2e944daf6a3b0e59a28985\n",
      "http://storage.mds.yandex.net:80/get-mimcache/48914/144835e5ebbcd025554fd465c9c97f6c\n",
      "http://storage.mds.yandex.net:80/get-mimcache/62351/496b509ab311e44c2eacae095f3f364f\n",
      "http://storage.mds.yandex.net:80/get-mimcache/26008/6a40f977e254cb79adfac8a3115345a7\n",
      "http://storage.mds.yandex.net:80/get-mimcache/109112/74c2f6f9e824396f47ad371d0e8b7360\n",
      "http://storage.mds.yandex.net:80/get-mimcache/117736/0e54e4f98c2696f3d0ff80f5c55f1899\n",
      "http://storage.mds.yandex.net:80/get-mimcache/128110/20ba56aeca3bad3ecf24c5e699a24abc\n",
      "http://storage.mds.yandex.net:80/get-mimcache/117819/c5dae438bb6ba29b300a46a4b69ec1f8\n",
      "http://storage.mds.yandex.net:80/get-mimcache/4362642/d5c170597c0f8126bd54902846374205\n",
      "http://storage.mds.yandex.net:80/get-mimcache/62351/5d7e925c9b8a745786b2cc539caec7ba\n",
      "http://storage.mds.yandex.net:80/get-mimcache/44885/350c23783ad965228f60ca0ab44be3a4\n",
      "http://storage.mds.yandex.net:80/get-mimcache/145081/a1e8cd43a2ffd033b6711b6778c761ef\n",
      "http://storage.mds.yandex.net:80/get-mimcache/118897/a09042fe1e3bcf0ffa5db8af05dc52fb\n"
     ]
    }
   ],
   "source": [
    "if not os.path.exists('image_dataset'):\n",
    "    os.makedirs('image_dataset')\n",
    "\n",
    "for row in image_all.iterrows():\n",
    "    key = row[1]['assessors_answer'].lower()\n",
    "    response = requests.get(row[1]['query'])\n",
    "    try:\n",
    "        img = Image.open(BytesIO(response.content))\n",
    "        if not os.path.exists('image_dataset/' + key):\n",
    "            os.makedirs('image_dataset/' + key)\n",
    "        try:\n",
    "            img.save('image_dataset/' + key + '/' + str(row[0]) + '.jpg')\n",
    "        except OSError:\n",
    "            img = img.convert('RGB')\n",
    "            img.save('image_dataset/' + key + '/' + str(row[0]) + '.jpg')\n",
    "    except:\n",
    "        print(row[1]['query'])"
   ]
  },
  {
   "cell_type": "code",
   "execution_count": 38,
   "id": "marked-postcard",
   "metadata": {},
   "outputs": [],
   "source": [
    "import shutil\n",
    "\n",
    "shutil.rmtree('image_dataset')"
   ]
  },
  {
   "cell_type": "code",
   "execution_count": null,
   "id": "opposite-patent",
   "metadata": {},
   "outputs": [],
   "source": []
  }
 ],
 "metadata": {
  "kernelspec": {
   "display_name": "Python 3",
   "language": "python",
   "name": "python3"
  },
  "language_info": {
   "codemirror_mode": {
    "name": "ipython",
    "version": 3
   },
   "file_extension": ".py",
   "mimetype": "text/x-python",
   "name": "python",
   "nbconvert_exporter": "python",
   "pygments_lexer": "ipython3",
   "version": "3.7.5"
  }
 },
 "nbformat": 4,
 "nbformat_minor": 5
}
