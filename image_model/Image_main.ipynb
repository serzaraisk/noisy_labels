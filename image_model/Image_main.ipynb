{
 "cells": [
  {
   "cell_type": "code",
   "execution_count": null,
   "id": "presidential-teens",
   "metadata": {},
   "outputs": [],
   "source": [
    "! git init\n",
    "! git pull https://github.com/serzaraisk/noisy_labels.git"
   ]
  },
  {
   "cell_type": "markdown",
   "id": "civil-router",
   "metadata": {},
   "source": [
    "## Step 0: Imports and Global variable init"
   ]
  },
  {
   "cell_type": "code",
   "execution_count": 69,
   "id": "incorporated-sleep",
   "metadata": {},
   "outputs": [
    {
     "name": "stdout",
     "output_type": "stream",
     "text": [
      "cpu\n"
     ]
    }
   ],
   "source": [
    "from torch import cuda\n",
    "DEVICE = 'cuda' if cuda.is_available() else 'cpu'\n",
    "DESTINATION_FOLDER = 'models'\n",
    "DATASETS_FOLDER = 'data'\n",
    "TRAIN_TEST_RATIO = 0.9\n",
    "TRAIN_VALID_RATIO = 0.8\n",
    "FRACTION = 0.01\n",
    "SAMPLE = None\n",
    "PATH = '//home/images/dev/spochukaev/hse_diploma/image_classification'\n",
    "BATCH_SIZE = 10\n",
    "NUM_OF_WORKERS = 0\n",
    "\n",
    "MODEL_NAME = 'tf_efficientnet_b4_ns'\n",
    "efficientnet_sizes = {'tf_efficientnet_b0_ns':224,\n",
    "'tf_efficientnet_b1_ns':240,\n",
    "'tf_efficientnet_b2_ns':260,\n",
    "'tf_efficientnet_b3_ns':300,\n",
    "'tf_efficientnet_b4_ns':380,\n",
    "'tf_efficientnet_b5_ns':456,\n",
    "'tf_efficientnet_b6_ns':528,\n",
    "'tf_efficientnet_b7_ns':600\n",
    "}\n",
    "\n",
    "IMAGE_SIZE = efficientnet_sizes[MODEL_NAME]\n",
    "\n",
    "print(DEVICE)"
   ]
  },
  {
   "cell_type": "markdown",
   "id": "brown-advantage",
   "metadata": {},
   "source": [
    "## Step 1: Train_val_test_split data"
   ]
  },
  {
   "cell_type": "code",
   "execution_count": 79,
   "id": "vertical-professor",
   "metadata": {},
   "outputs": [
    {
     "data": {
      "text/plain": [
       "<module 'prepare_dataset' from '/home/spochukaev/Hse диплом/image_model/prepare_dataset.py'>"
      ]
     },
     "execution_count": 79,
     "metadata": {},
     "output_type": "execute_result"
    }
   ],
   "source": [
    "from importlib import reload\n",
    "import prepare_dataset\n",
    "reload(prepare_dataset)"
   ]
  },
  {
   "cell_type": "code",
   "execution_count": 81,
   "id": "outdoor-vaccine",
   "metadata": {},
   "outputs": [
    {
     "name": "stdout",
     "output_type": "stream",
     "text": [
      "(10421, 3)\n",
      "2    3486\n",
      "1    3475\n",
      "0    3460\n",
      "Name: label, dtype: int64\n",
      "(2607, 3)\n",
      "2    872\n",
      "1    869\n",
      "0    866\n",
      "Name: label, dtype: int64\n",
      "(1449, 3)\n",
      "2    485\n",
      "1    483\n",
      "0    481\n",
      "Name: label, dtype: int64\n",
      "Кол-во обработанных строк [/train]: 0\n",
      "http://storage.mds.yandex.net:80/get-mimcache/4362642/d5c170597c0f8126bd54902846374205\n",
      "Кол-во обработанных строк [/train]: 100\n",
      "http://storage.mds.yandex.net:80/get-mimcache/3700060/1296707810f32b7483bbc7f3316b8e66\n",
      "Кол-во обработанных строк [/train]: 200\n",
      "http://storage.mds.yandex.net:80/get-mimcache/4362642/c7bd8041da20cc4a238c0d13167aba2a\n",
      "Кол-во обработанных строк [/train]: 300\n",
      "http://storage.mds.yandex.net:80/get-mimcache/508726/1ff313560f74e1fb34cdb9f7e477429e\n",
      "http://storage.mds.yandex.net:80/get-mimcache/4415259/69561cdda2726cb9a7f2d6fa91981652\n",
      "http://storage.mds.yandex.net:80/get-mimcache/44885/0d8b82b7927495a79bac3c633a9b0833\n",
      "Кол-во обработанных строк [/train]: 400\n",
      "Кол-во обработанных строк [/train]: 500\n",
      "http://storage.mds.yandex.net:80/get-mimcache/4479255/2075d45d398e1c9ea3f059931ab23c32\n",
      "Кол-во обработанных строк [/train]: 600\n",
      "http://storage.mds.yandex.net:80/get-mimcache/3718623/4f2abb4e7b1da271e243b96b7d97686f\n",
      "Кол-во обработанных строк [/train]: 700\n",
      "http://storage.mds.yandex.net:80/get-mimcache/3725176/3b882f65710754d1e9a8e608df1fd5d6\n",
      "http://storage.mds.yandex.net:80/get-mimcache/44885/8fd2f58e58ca006917d90bf8c4bc2e2d\n",
      "Кол-во обработанных строк [/train]: 800\n",
      "Кол-во обработанных строк [/train]: 900\n",
      "http://storage.mds.yandex.net:80/get-mimcache/4368926/54bad410d9b217f9e1fd47317613c365\n",
      "Кол-во обработанных строк [/train]: 1000\n",
      "http://storage.mds.yandex.net:80/get-mimcache/153320/979453dc6cfb031a62dad02430b79978\n",
      "http://storage.mds.yandex.net:80/get-mimcache/44885/16dbc8356225364efbb20aabc1f6537f\n",
      "Кол-во обработанных строк [/train]: 1100\n",
      "Кол-во обработанных строк [/train]: 1200\n",
      "http://storage.mds.yandex.net:80/get-mimcache/4479255/84792045525d518643471431020f9ba6\n",
      "http://storage.mds.yandex.net:80/get-mimcache/43566/891b8022249aa5447ad0f0a914dccfb5\n",
      "Кол-во обработанных строк [/train]: 1300\n",
      "http://storage.mds.yandex.net:80/get-mimcache/4368926/fe22253ed7691481f0008c65a20ae199\n",
      "Кол-во обработанных строк [/train]: 1400\n",
      "http://storage.mds.yandex.net:80/get-mimcache/115273/f358a1a7dc79105b69303d8608d4de9a\n",
      "Кол-во обработанных строк [/train]: 1500\n",
      "http://storage.mds.yandex.net:80/get-mimcache/44885/57fa21fadf2e2dcc06750469efd5a2a9\n",
      "http://storage.mds.yandex.net:80/get-mimcache/3738002/29969a5fc4ce9614235d8adb54b50cf0\n",
      "http://storage.mds.yandex.net:80/get-mimcache/4479255/bc5b5fadb4afebb8b253338082a123b2\n",
      "http://storage.mds.yandex.net:80/get-mimcache/53042/46648c6769a185b1ad77a891e1006085\n",
      "http://storage.mds.yandex.net:80/get-mimcache/117485/3665872b8610dd3a26341e3791239725\n",
      "Кол-во обработанных строк [/train]: 1600\n",
      "http://storage.mds.yandex.net:80/get-mimcache/44885/8e7e640f4b9fc6188e828d0f69e3f5db\n",
      "http://storage.mds.yandex.net:80/get-mimcache/4120754/6dc9f0746ccb6c0d44b8a0b4f9cc9aea\n",
      "http://storage.mds.yandex.net:80/get-mimcache/4368926/dde623a4f408d77f55f3b508b6c1884c\n",
      "http://storage.mds.yandex.net:80/get-mimcache/3718623/c9f36621b5c592e64a978043cc31ed66\n",
      "Кол-во обработанных строк [/train]: 1700\n",
      "http://storage.mds.yandex.net:80/get-mimcache/153320/9416321df3ffd62f6da18cc0182f6325\n",
      "http://storage.mds.yandex.net:80/get-mimcache/117819/c5dae438bb6ba29b300a46a4b69ec1f8\n",
      "http://storage.mds.yandex.net:80/get-mimcache/109977/f0d0cd9decb794eb703532223858801a\n",
      "Кол-во обработанных строк [/train]: 1800\n",
      "http://storage.mds.yandex.net:80/get-mimcache/145081/e034e99baaafc072019ccbabc0c20943\n",
      "Кол-во обработанных строк [/train]: 1900\n",
      "Кол-во обработанных строк [/train]: 2000\n",
      "http://storage.mds.yandex.net:80/get-mimcache/68269/38436e751e9107666c33c0c028d2918a\n",
      "Кол-во обработанных строк [/train]: 2100\n",
      "http://storage.mds.yandex.net:80/get-mimcache/4415259/5328593143c8cac61c3025a06fcd79b4\n",
      "Кол-во обработанных строк [/train]: 2200\n",
      "http://storage.mds.yandex.net:80/get-mimcache/109977/7072ebfbad82a9fb291ad7bfdcb615bd\n",
      "http://storage.mds.yandex.net:80/get-mimcache/3532412/81529341893633b6d5c93021bcdac6f9\n",
      "http://storage.mds.yandex.net:80/get-mimcache/4481103/a2d3b10f7d3e228d56026e4fc7674fc2\n",
      "Кол-во обработанных строк [/train]: 2300\n",
      "http://storage.mds.yandex.net:80/get-mimcache/145081/cfec85ac54c12bb3ad469715392dbe60\n",
      "Кол-во обработанных строк [/train]: 2400\n",
      "http://storage.mds.yandex.net:80/get-mimcache/3684501/f5b28e809eefdcbee2b54eb298977bbd\n",
      "http://storage.mds.yandex.net:80/get-mimcache/44885/730377d371eba73a1f599244fc3666d3\n",
      "Кол-во обработанных строк [/train]: 2500\n",
      "http://storage.mds.yandex.net:80/get-mimcache/62351/4e5500068f564e992df38062476a25c5\n",
      "Кол-во обработанных строк [/train]: 2600\n",
      "http://storage.mds.yandex.net:80/get-mimcache/62351/3e289816548057092ba7bbd5939f2c31\n",
      "Кол-во обработанных строк [/train]: 2700\n",
      "http://storage.mds.yandex.net:80/get-mimcache/4481103/34d8499fc7ab9a27f2a64b857e44a6ea\n",
      "http://storage.mds.yandex.net:80/get-mimcache/44885/c77f637081c627a1d56bf3f1ec07c0eb\n",
      "http://storage.mds.yandex.net:80/get-mimcache/44885/a4ba00b42ba6ec901f389fea2ab485ce\n",
      "Кол-во обработанных строк [/train]: 2800\n",
      "http://storage.mds.yandex.net:80/get-mimcache/3684501/0ab65f68fdf923c2c8bd460547d97fa0\n",
      "Кол-во обработанных строк [/train]: 2900\n",
      "http://storage.mds.yandex.net:80/get-mimcache/3736508/9fe4f3dd30032dbe25625973e03fc23f\n",
      "http://storage.mds.yandex.net:80/get-mimcache/42313/7ef9bed98cfb1437fabdb26d126937bb\n",
      "Кол-во обработанных строк [/train]: 3000\n",
      "Кол-во обработанных строк [/train]: 3100\n",
      "http://storage.mds.yandex.net:80/get-mimcache/4485779/5db1973e7eaf08fc503255ff77e3ab56\n",
      "http://storage.mds.yandex.net:80/get-mimcache/61270/536f6ff0e4855a5287cdd930081262b8\n",
      "http://storage.mds.yandex.net:80/get-mimcache/62351/01ea7f641f003e89712efcdb18d1a49a\n",
      "Кол-во обработанных строк [/train]: 3200\n",
      "http://storage.mds.yandex.net:80/get-mimcache/515928/fe0f6f38a7915922f66926ecec51562c\n",
      "http://storage.mds.yandex.net:80/get-mimcache/48333/c96feafe4e19bf739b1307862f6deafa\n",
      "http://storage.mds.yandex.net:80/get-mimcache/4395389/3c8f857a104caba6722a15b10fbe7c01\n",
      "Кол-во обработанных строк [/train]: 3300\n",
      "http://storage.mds.yandex.net:80/get-mimcache/4479255/bab0c4e5f6be76c840890dda5a449c22\n",
      "http://storage.mds.yandex.net:80/get-mimcache/4479255/6dbfd19e6e0daa0cc070fc12f381d5c2\n",
      "Кол-во обработанных строк [/train]: 3400\n",
      "http://storage.mds.yandex.net:80/get-mimcache/28190/0dee6291986a0c0b0634495db2436742\n",
      "Кол-во обработанных строк [/train]: 3500\n",
      "Кол-во обработанных строк [/train]: 3600\n",
      "http://storage.mds.yandex.net:80/get-mimcache/4479255/9dc4aaf9df3788cf26687ec7b402a51a\n",
      "http://storage.mds.yandex.net:80/get-mimcache/56435/fb15237c0774d3d73c0c3d6b7c306a8a\n",
      "Кол-во обработанных строк [/train]: 3700\n",
      "http://storage.mds.yandex.net:80/get-mimcache/53042/2c093706a92b3aa7fee267ef279a3c59\n",
      "http://storage.mds.yandex.net:80/get-mimcache/109977/c1a8f7089a6efc555e114540648dadce\n",
      "Кол-во обработанных строк [/train]: 3800\n",
      "http://storage.mds.yandex.net:80/get-mimcache/43959/23dcda1fcede1b13e215c16ae5ebc7a5\n",
      "Кол-во обработанных строк [/train]: 3900\n",
      "http://storage.mds.yandex.net:80/get-mimcache/28728/dc1004e87c65cdd8ec60c3be14777d6c\n",
      "http://storage.mds.yandex.net:80/get-mimcache/117819/89be5371e5083ce8359db1e01894c22f\n",
      "http://storage.mds.yandex.net:80/get-mimcache/118897/4266c4bb02119d060275e28997e5d1b8\n",
      "http://storage.mds.yandex.net:80/get-mimcache/120032/83d949319df81c654a73461757c7b437\n",
      "Кол-во обработанных строк [/train]: 4000\n",
      "http://storage.mds.yandex.net:80/get-mimcache/48333/d1485a468f60b8c5f4cbc12aad3a5695\n",
      "Кол-во обработанных строк [/train]: 4100\n",
      "http://storage.mds.yandex.net:80/get-mimcache/26008/18c0052423ee3a2efe734ba7f65e8a65\n",
      "http://storage.mds.yandex.net:80/get-mimcache/4067093/6712bca18117108d36f49d9f6ee01a68\n",
      "Кол-во обработанных строк [/train]: 4200\n",
      "Кол-во обработанных строк [/train]: 4300\n",
      "http://storage.mds.yandex.net:80/get-mimcache/109977/32241633a3ccc8b9943025998e5121e7\n",
      "http://storage.mds.yandex.net:80/get-mimcache/4479255/32d38cf91c51fd075705646a6a17dd84\n",
      "http://storage.mds.yandex.net:80/get-mimcache/4368926/03796a24dc10d75a0194578f12fd38b1\n",
      "Кол-во обработанных строк [/train]: 4400\n",
      "Кол-во обработанных строк [/train]: 4500\n",
      "http://storage.mds.yandex.net:80/get-mimcache/60310/646155c3a9cf7a89bece51e7e5e5c164\n",
      "http://storage.mds.yandex.net:80/get-mimcache/42313/a32f8a2df2a3ab96abe94da68c0ce1f8\n",
      "Кол-во обработанных строк [/train]: 4600\n",
      "http://storage.mds.yandex.net:80/get-mimcache/4479255/350a4c3b9acfbd835e629257a747084e\n",
      "http://storage.mds.yandex.net:80/get-mimcache/3725176/02961d005b936ccc5854dfaba8fce33d\n",
      "http://storage.mds.yandex.net:80/get-mimcache/44885/154aa8e50e6d0be0339057b65934ec8d\n",
      "Кол-во обработанных строк [/train]: 4700\n",
      "http://storage.mds.yandex.net:80/get-mimcache/48914/144835e5ebbcd025554fd465c9c97f6c\n",
      "http://storage.mds.yandex.net:80/get-mimcache/62351/eab1a1d98b7cb7662858187f90205106\n",
      "http://storage.mds.yandex.net:80/get-mimcache/145081/0508ddca8c1b7e1d83be970bad73fff6\n",
      "http://storage.mds.yandex.net:80/get-mimcache/3727613/cbc037f97a29c22c1caae07ac48510a9\n",
      "http://storage.mds.yandex.net:80/get-mimcache/53042/0cf672f8ab2e944daf6a3b0e59a28985\n",
      "Кол-во обработанных строк [/train]: 4800\n",
      "Кол-во обработанных строк [/train]: 4900\n",
      "Кол-во обработанных строк [/train]: 5000\n",
      "http://storage.mds.yandex.net:80/get-mimcache/101364/46e59249962e7305e60ed20466435b68\n",
      "http://storage.mds.yandex.net:80/get-mimcache/50479/60d966668b63728a0fb9f68695f9c0b7\n",
      "Кол-во обработанных строк [/train]: 5100\n",
      "http://storage.mds.yandex.net:80/get-mimcache/3739336/2e93dfc5a02375bfc118476f509e9503\n",
      "Кол-во обработанных строк [/train]: 5200\n",
      "http://storage.mds.yandex.net:80/get-mimcache/145081/7d9cff6f92d6bf5199cc9b78cae6be9c\n",
      "Кол-во обработанных строк [/train]: 5300\n",
      "Кол-во обработанных строк [/train]: 5400\n",
      "http://storage.mds.yandex.net:80/get-mimcache/28728/ea3d98140512b39c988f4eb269ce73dd\n",
      "Кол-во обработанных строк [/train]: 5500\n",
      "http://storage.mds.yandex.net:80/get-mimcache/40988/0fe37f23a382c64e927c3aa56e8d21a5\n",
      "Кол-во обработанных строк [/train]: 5600\n",
      "http://storage.mds.yandex.net:80/get-mimcache/57769/1533bd073a8e328dc02097737285aa65\n",
      "Кол-во обработанных строк [/train]: 5700\n",
      "http://storage.mds.yandex.net:80/get-mimcache/145081/84206933b2255e7158ef24367fe96c77\n",
      "Кол-во обработанных строк [/train]: 5800\n",
      "http://storage.mds.yandex.net:80/get-mimcache/4479255/6265a7f24b4b422b8c12cda293aad48d\n",
      "http://storage.mds.yandex.net:80/get-mimcache/4479255/1d3c7302ce1d3c012326a3afff360115\n",
      "Кол-во обработанных строк [/train]: 5900\n",
      "http://storage.mds.yandex.net:80/get-mimcache/42313/76b7d60ddc5c5af89544be85731e85d4\n",
      "Кол-во обработанных строк [/train]: 6000\n",
      "Кол-во обработанных строк [/train]: 6100\n",
      "http://storage.mds.yandex.net:80/get-mimcache/122837/e559006f38da7f8796d0153eb719dfe2\n",
      "http://storage.mds.yandex.net:80/get-mimcache/4415259/30bcb5c13e97c837f2ed1d3562897408\n",
      "Кол-во обработанных строк [/train]: 6200\n",
      "http://storage.mds.yandex.net:80/get-mimcache/48333/a6fc683ceaae76666d0004b1e403f71b\n",
      "http://storage.mds.yandex.net:80/get-mimcache/62351/4cfe1d791b5f85792aa04fd4f7dd63fd\n",
      "http://storage.mds.yandex.net:80/get-mimcache/4415259/978324ca9d018f9fc7f830aeec4cf9a0\n",
      "Кол-во обработанных строк [/train]: 6300\n",
      "http://storage.mds.yandex.net:80/get-mimcache/4479255/c1a4115c860aea407142dd1cfb151351\n",
      "http://storage.mds.yandex.net:80/get-mimcache/26008/b7e5ba77b3077fa77b1a37240269e56d\n",
      "http://storage.mds.yandex.net:80/get-mimcache/5234456/56276f2ad04a3c2e472dc3abde842b66\n",
      "http://storage.mds.yandex.net:80/get-mimcache/122837/f149fedb103ffb022e291f5ab88764a3\n",
      "Кол-во обработанных строк [/train]: 6400\n",
      "http://storage.mds.yandex.net:80/get-mimcache/52657/85e8909f10dfd66042bf6e34bf300b25\n",
      "Кол-во обработанных строк [/train]: 6500\n",
      "http://storage.mds.yandex.net:80/get-mimcache/67820/9fa01e779cb6cf1f0d01de5cba7ed35c\n",
      "http://storage.mds.yandex.net:80/get-mimcache/26008/6a40f977e254cb79adfac8a3115345a7\n",
      "http://storage.mds.yandex.net:80/get-mimcache/51192/fa82f7e836b11e4ae3ddaa10ab682059\n",
      "Кол-во обработанных строк [/train]: 6600\n",
      "http://storage.mds.yandex.net:80/get-mimcache/109977/6d73ea6d5b4a1d609c79aa5c5ed53e7e\n",
      "http://storage.mds.yandex.net:80/get-mimcache/5439647/311107df7a787cb6e9ebc0d2f633923b\n",
      "http://storage.mds.yandex.net:80/get-mimcache/3684501/b94b1f735847c533d007477b46384f6a\n",
      "Кол-во обработанных строк [/train]: 6700\n",
      "http://storage.mds.yandex.net:80/get-mimcache/48914/a2f3d4f1f60d7db28404106d386f5811\n",
      "Кол-во обработанных строк [/train]: 6800\n",
      "http://storage.mds.yandex.net:80/get-mimcache/43566/de20e82e08c69c62a8dc20c64dd54be7\n",
      "Кол-во обработанных строк [/train]: 6900\n",
      "Кол-во обработанных строк [/train]: 7000\n",
      "http://storage.mds.yandex.net:80/get-mimcache/115273/34324fc6eb3b8e9254f7892b6e7c80db\n",
      "Кол-во обработанных строк [/train]: 7100\n",
      "http://storage.mds.yandex.net:80/get-mimcache/4479255/57660b8e951b472b88b6791daef97108\n",
      "http://storage.mds.yandex.net:80/get-mimcache/4395389/67c195d02bcea19b7cacd79867b1b4ab\n",
      "Кол-во обработанных строк [/train]: 7200\n",
      "Кол-во обработанных строк [/train]: 7300\n",
      "http://storage.mds.yandex.net:80/get-mimcache/118897/cfd4679fe568f87ccc86ab4d504a2e9b\n",
      "Кол-во обработанных строк [/train]: 7400\n",
      "http://storage.mds.yandex.net:80/get-mimcache/52657/04f19fd57195327dcd3d858b99ef5c3f\n",
      "http://storage.mds.yandex.net:80/get-mimcache/117819/9b514692b94fd8793f94b4d9b76b99ee\n",
      "Кол-во обработанных строк [/train]: 7500\n",
      "http://storage.mds.yandex.net:80/get-mimcache/515928/37227d26cd2c5640f8a6b8e955cd1359\n",
      "http://storage.mds.yandex.net:80/get-mimcache/145081/73390d1a31cf79207c75cca1ad7d5d5c\n",
      "http://storage.mds.yandex.net:80/get-mimcache/4067093/754f5581aff1043069e914d1c33da638\n",
      "http://storage.mds.yandex.net:80/get-mimcache/4368926/d2eede82f6c60e66c7a484122e727378\n",
      "http://storage.mds.yandex.net:80/get-mimcache/67820/10c4d5c34c6ec0db83ec1b031fe55a24\n",
      "Кол-во обработанных строк [/train]: 7600\n",
      "http://storage.mds.yandex.net:80/get-mimcache/50479/392640e7052699f5ec8f4c80243c088a\n",
      "Кол-во обработанных строк [/train]: 7700\n",
      "http://storage.mds.yandex.net:80/get-mimcache/145081/cdf0775eef4c1c1fc3dfd6476a4b082f\n",
      "http://storage.mds.yandex.net:80/get-mimcache/4479255/a647d3f766959a1a0a0d384dfc21cc00\n",
      "Кол-во обработанных строк [/train]: 7800\n",
      "Кол-во обработанных строк [/train]: 7900\n",
      "http://storage.mds.yandex.net:80/get-mimcache/48914/71b80ff538418b94b4384bdb549b84b7\n",
      "http://storage.mds.yandex.net:80/get-mimcache/4479255/0d2ec44171f571fd522f6ac956d58679\n",
      "http://storage.mds.yandex.net:80/get-mimcache/4395389/8c0a3591ec696da4914981f098147dc5\n",
      "http://storage.mds.yandex.net:80/get-mimcache/4479255/6fc4424d7a982ad8c7e446a14f650227\n",
      "http://storage.mds.yandex.net:80/get-mimcache/62351/0a5fb89e3c9cf6dd1bffda44fdcd575d\n",
      "http://storage.mds.yandex.net:80/get-mimcache/95109/ec693fc8049e746af425090a21971200\n",
      "Кол-во обработанных строк [/train]: 8000\n",
      "Кол-во обработанных строк [/train]: 8100\n",
      "http://storage.mds.yandex.net:80/get-mimcache/67820/69c5eaf958f2ea50c8218ed04e75746a\n",
      "http://storage.mds.yandex.net:80/get-mimcache/145081/a1e8cd43a2ffd033b6711b6778c761ef\n",
      "Кол-во обработанных строк [/train]: 8200\n",
      "http://storage.mds.yandex.net:80/get-mimcache/4362642/72f883c66121f9ffa1d6d9abb9fa2121\n",
      "http://storage.mds.yandex.net:80/get-mimcache/109112/e8aa53e3f82080b949b2cd1b9a415f80\n",
      "http://storage.mds.yandex.net:80/get-mimcache/3718623/64f86d9889af83280d8935c5aa89f039\n",
      "Кол-во обработанных строк [/train]: 8300\n",
      "http://storage.mds.yandex.net:80/get-mimcache/3736508/20bfcb24ec6ce4b69d569fb5ffea5d96\n",
      "http://storage.mds.yandex.net:80/get-mimcache/4368926/9a8222df45d5f2db20bde4758c51bc84\n",
      "Кол-во обработанных строк [/train]: 8400\n",
      "http://storage.mds.yandex.net:80/get-mimcache/44885/04244eb06c7d8ea8f0b91e00c4850879\n",
      "Кол-во обработанных строк [/train]: 8500\n",
      "http://storage.mds.yandex.net:80/get-mimcache/62491/4520b3f39950138310c04915fbb77b31\n",
      "Кол-во обработанных строк [/train]: 8600\n",
      "http://storage.mds.yandex.net:80/get-mimcache/139594/b65d2a28bacc4e92ffad9a639f4831d5\n",
      "http://storage.mds.yandex.net:80/get-mimcache/60183/d0275c187dba8319a8538dba8536db31\n",
      "http://storage.mds.yandex.net:80/get-mimcache/118897/a09042fe1e3bcf0ffa5db8af05dc52fb\n",
      "Кол-во обработанных строк [/train]: 8700\n",
      "http://storage.mds.yandex.net:80/get-mimcache/4067093/ce879d497248d1af9003d423aee8f66f\n",
      "Кол-во обработанных строк [/train]: 8800\n",
      "http://storage.mds.yandex.net:80/get-mimcache/42313/94813c533e2850cee4888ec16a1616e1\n",
      "http://storage.mds.yandex.net:80/get-mimcache/67820/04a147350986a04b97c41d7d4740c1bc\n",
      "http://storage.mds.yandex.net:80/get-mimcache/4368926/5030a71c91e23f649f0e3ac24e27d251\n",
      "Кол-во обработанных строк [/train]: 8900\n",
      "http://storage.mds.yandex.net:80/get-mimcache/55365/76f9f722bdae2522c212597004d19d46\n",
      "http://storage.mds.yandex.net:80/get-mimcache/50479/a27b5ab4cf5c9eebd0bab2135545f17a\n",
      "http://storage.mds.yandex.net:80/get-mimcache/4368926/b407eeccb33dc0c5e3f660afb8fa9e92\n",
      "Кол-во обработанных строк [/train]: 9000\n",
      "http://storage.mds.yandex.net:80/get-mimcache/53042/3feac0be8162cbc843c1a83b29fbad1d\n",
      "http://storage.mds.yandex.net:80/get-mimcache/4479255/771e5745cbd557c9cc780fe6367a1604\n",
      "Кол-во обработанных строк [/train]: 9100\n",
      "http://storage.mds.yandex.net:80/get-mimcache/30046/b03547f6df94187418384a4958c86d75\n",
      "http://storage.mds.yandex.net:80/get-mimcache/23133/b4d592ed1ba3978cf9e2ba1af7418ddd\n",
      "Кол-во обработанных строк [/train]: 9200\n",
      "http://storage.mds.yandex.net:80/get-mimcache/58521/5facb87c15d92fa518cac03f48f2ecf1\n",
      "Кол-во обработанных строк [/train]: 9300\n",
      "http://storage.mds.yandex.net:80/get-mimcache/50875/aa09c81da20de080ac232498a3dc7c39\n",
      "http://storage.mds.yandex.net:80/get-mimcache/98141/93beb47a2c908955bd9ee24be822b58c\n",
      "http://storage.mds.yandex.net:80/get-mimcache/4362642/4173beede5af9059c9955ca89528c1e5\n",
      "http://storage.mds.yandex.net:80/get-mimcache/68705/e72667b3467e7df935e51eeaf330be20\n",
      "Кол-во обработанных строк [/train]: 9400\n",
      "http://storage.mds.yandex.net:80/get-mimcache/4479255/1d3243282c390110537b4a527664a939\n",
      "http://storage.mds.yandex.net:80/get-mimcache/109977/35df19c94108e688177789260f0bbf1c\n",
      "Кол-во обработанных строк [/train]: 9500\n",
      "http://storage.mds.yandex.net:80/get-mimcache/48333/74425c3736f149c8fe9277d771b3e2bb\n",
      "http://storage.mds.yandex.net:80/get-mimcache/145081/f918aa865114bd135ce5425ba09b0d78\n",
      "http://storage.mds.yandex.net:80/get-mimcache/4415259/a5dbec95434cbe3714829e2d8020ca1c\n",
      "Кол-во обработанных строк [/train]: 9600\n",
      "http://storage.mds.yandex.net:80/get-mimcache/62351/3c4b280c5440a2d12199479a5d138393\n",
      "http://storage.mds.yandex.net:80/get-mimcache/62351/0edb52ebde6dba63bb7d64ce19957ab6\n",
      "http://storage.mds.yandex.net:80/get-mimcache/47687/3b4cee0677688cbc0d113dfc671e7970\n",
      "Кол-во обработанных строк [/train]: 9700\n",
      "http://storage.mds.yandex.net:80/get-mimcache/58706/6bf3faac3d60e1a7f4b2fce4da8302b2\n",
      "http://storage.mds.yandex.net:80/get-mimcache/4479255/4de9e3f78b5e4977f6d823b69ddaa4c7\n",
      "http://storage.mds.yandex.net:80/get-mimcache/3855547/e740fff1d2c0a4b181ca04638176fdca\n",
      "http://storage.mds.yandex.net:80/get-mimcache/120032/0aa37f79ada3a8a7b6be14807fd845f9\n",
      "Кол-во обработанных строк [/train]: 9800\n",
      "http://storage.mds.yandex.net:80/get-mimcache/4368926/eff4a3cff62fd7f9c00ecd13819b84aa\n",
      "http://storage.mds.yandex.net:80/get-mimcache/4415259/cb82971f4a08bc8f8e5d07186b53d955\n",
      "http://storage.mds.yandex.net:80/get-mimcache/4395389/7a437875ab92d6e3ee9dc03151de40aa\n",
      "Кол-во обработанных строк [/train]: 9900\n",
      "http://storage.mds.yandex.net:80/get-mimcache/4479255/5ebd5ff52941137ac87e10d6e0443b9e\n",
      "Кол-во обработанных строк [/train]: 10000\n",
      "http://storage.mds.yandex.net:80/get-mimcache/41168/d207394593c07efe0f9feedefacb506e\n",
      "Кол-во обработанных строк [/train]: 10100\n",
      "http://storage.mds.yandex.net:80/get-mimcache/4479255/579ea6b231400b71942a06f0b9c94cf1\n",
      "Кол-во обработанных строк [/train]: 10200\n",
      "http://storage.mds.yandex.net:80/get-mimcache/53042/e3958a6b2114a6fc97ef1e52dd7ee513\n",
      "http://storage.mds.yandex.net:80/get-mimcache/41168/ca736458330c8e34047d44db95abb90c\n",
      "Кол-во обработанных строк [/train]: 10300\n",
      "http://storage.mds.yandex.net:80/get-mimcache/62351/537de1c0619ccc097d2ca82a1a6d83d6\n",
      "http://storage.mds.yandex.net:80/get-mimcache/103011/990c356cc6f6cb3a00ed4613f3fdc619\n",
      "Кол-во обработанных строк [/train]: 10400\n",
      "Кол-во обработанных строк [/val]: 0\n",
      "http://storage.mds.yandex.net:80/get-mimcache/4368926/c8d9d8483834b9268777cdd7de7c42fb\n",
      "http://storage.mds.yandex.net:80/get-mimcache/4368926/bf166e3e4719feacceb268b9140f44ac\n",
      "http://storage.mds.yandex.net:80/get-mimcache/103011/8ba4050a0184df2fe29a67e4e2bb621b\n",
      "Кол-во обработанных строк [/val]: 100\n",
      "http://storage.mds.yandex.net:80/get-mimcache/62351/872469a1a61fc5674fb168690e340bcc\n",
      "http://storage.mds.yandex.net:80/get-mimcache/46672/12a36cad7cf30ee6b8e3abfeddd41f18\n",
      "Кол-во обработанных строк [/val]: 200\n",
      "http://storage.mds.yandex.net:80/get-mimcache/4479255/132d555e143cbe84220b23590adc0bc2\n",
      "http://storage.mds.yandex.net:80/get-mimcache/143518/8412d3139e9761a468cb0104171a47b2\n",
      "http://storage.mds.yandex.net:80/get-mimcache/132655/46dd5648b7c74734cff5c45dcbd42b4e\n",
      "Кол-во обработанных строк [/val]: 300\n",
      "http://storage.mds.yandex.net:80/get-mimcache/95109/af8d32fb6ab347fd1f5e4ad378d6ea9f\n",
      "http://storage.mds.yandex.net:80/get-mimcache/4415259/bd2618a7ae0641c7fcc9035d6632bfd5\n",
      "Кол-во обработанных строк [/val]: 400\n",
      "http://storage.mds.yandex.net:80/get-mimcache/48333/f8765235cb38fea75b6d76d05ba49987\n",
      "http://storage.mds.yandex.net:80/get-mimcache/3727613/c39fb8c4b5a2d3081bb69e898208ed42\n",
      "http://storage.mds.yandex.net:80/get-mimcache/117736/98bc9e87f154805cfcd49aee890ad561\n",
      "Кол-во обработанных строк [/val]: 500\n",
      "http://storage.mds.yandex.net:80/get-mimcache/3702743/08dcab007389636a85ae2cd7157c20a4\n",
      "Кол-во обработанных строк [/val]: 600\n",
      "http://storage.mds.yandex.net:80/get-mimcache/109112/0d0305a21bb1b4369025c03fcece58bd\n",
      "http://storage.mds.yandex.net:80/get-mimcache/4479255/75286d87cfaa1198bd9fa208cf97af90\n",
      "http://storage.mds.yandex.net:80/get-mimcache/62351/dcc9d160e573fa6858f23219356fc266\n",
      "Кол-во обработанных строк [/val]: 700\n",
      "http://storage.mds.yandex.net:80/get-mimcache/145081/c0bb53f27b49f4a7591648ef478faef1\n",
      "http://storage.mds.yandex.net:80/get-mimcache/136651/580ef6cb4510c96858d7b1f4900cadcf\n",
      "Кол-во обработанных строк [/val]: 800\n",
      "http://storage.mds.yandex.net:80/get-mimcache/4479255/d0dfd2e7d7e23f4207be2b25a64c2605\n",
      "http://storage.mds.yandex.net:80/get-mimcache/61270/c1c808b4573f426e256c9c80924aa179\n",
      "Кол-во обработанных строк [/val]: 900\n",
      "http://storage.mds.yandex.net:80/get-mimcache/4479255/1cf9a558000e0d86ab44b3dd352e3953\n",
      "http://storage.mds.yandex.net:80/get-mimcache/60183/ce953ec1dddc3ebfd493ee6de146850d\n",
      "http://storage.mds.yandex.net:80/get-mimcache/95109/37e6ed56fe30c84b3f01cfcb7030aaa5\n",
      "http://storage.mds.yandex.net:80/get-mimcache/132655/1bb9b3496a99fbb2cc170c0a207c4c1d\n",
      "Кол-во обработанных строк [/val]: 1000\n",
      "http://storage.mds.yandex.net:80/get-mimcache/62351/a3a93dc9b4be499aa8d12df0148fd091\n",
      "http://storage.mds.yandex.net:80/get-mimcache/4479255/1976ff67e352c28e90740751a6be9dba\n",
      "Кол-во обработанных строк [/val]: 1100\n",
      "Кол-во обработанных строк [/val]: 1200\n",
      "http://storage.mds.yandex.net:80/get-mimcache/118897/e95a514b3f08b9730b847bce9484728d\n",
      "Кол-во обработанных строк [/val]: 1300\n",
      "Кол-во обработанных строк [/val]: 1400\n",
      "http://storage.mds.yandex.net:80/get-mimcache/98141/1a9da8dbdad2c4aef7eac8db8f122358\n",
      "Кол-во обработанных строк [/val]: 1500\n",
      "http://storage.mds.yandex.net:80/get-mimcache/117819/69e42d0541dd90002525c7c46755618e\n",
      "http://storage.mds.yandex.net:80/get-mimcache/101364/e4eec7e6c649bd5d11c560a7ab7f6d0a\n",
      "http://storage.mds.yandex.net:80/get-mimcache/67820/6d8b74a6939b577070f53852ecdc47e3\n",
      "http://storage.mds.yandex.net:80/get-mimcache/4479255/701d57d7aa6151d2ba88420a9d6a3eca\n",
      "Кол-во обработанных строк [/val]: 1600\n",
      "http://storage.mds.yandex.net:80/get-mimcache/57337/7832d98e0b4eda3303a3326e045a7c1e\n",
      "Кол-во обработанных строк [/val]: 1700\n",
      "http://storage.mds.yandex.net:80/get-mimcache/145081/360aaaaa4b4c7470d4a59eecb0ae5f17\n",
      "http://storage.mds.yandex.net:80/get-mimcache/62351/8375049e16d590f7920e10df1c644b05\n",
      "http://storage.mds.yandex.net:80/get-mimcache/128110/20ba56aeca3bad3ecf24c5e699a24abc\n",
      "Кол-во обработанных строк [/val]: 1800\n",
      "http://storage.mds.yandex.net:80/get-mimcache/4105498/6685505cad5ecf6bdb06543ffabbca9c\n",
      "http://storage.mds.yandex.net:80/get-mimcache/139594/781c04672175149ca00794aef176fb54\n",
      "http://storage.mds.yandex.net:80/get-mimcache/61270/f3110fbbe187faa75b8d7fbc0f94a6a0\n",
      "http://storage.mds.yandex.net:80/get-mimcache/117736/415182b0eda600eeeb5d7f595c9acad1\n",
      "Кол-во обработанных строк [/val]: 1900\n",
      "http://storage.mds.yandex.net:80/get-mimcache/52350/669f1deb8a1d703fa46b75fd0682a6b3\n",
      "Кол-во обработанных строк [/val]: 2000\n",
      "http://storage.mds.yandex.net:80/get-mimcache/97217/1dbd1cba4c63ab98e72cb35e88901236\n",
      "http://storage.mds.yandex.net:80/get-mimcache/30046/103e949c7dcf6f420fc5c67e030532b8\n",
      "http://storage.mds.yandex.net:80/get-mimcache/26008/f91596e1baf9c62334522ef65e0a0208\n",
      "Кол-во обработанных строк [/val]: 2100\n",
      "http://storage.mds.yandex.net:80/get-mimcache/43959/82710e23d0c05d1b4a7e8188b5f927b5\n",
      "http://storage.mds.yandex.net:80/get-mimcache/139594/a476ad9663c50647810b33336a87cd15\n",
      "Кол-во обработанных строк [/val]: 2200\n",
      "http://storage.mds.yandex.net:80/get-mimcache/145081/9b5dde196a9fb084258a01011810672c\n",
      "Кол-во обработанных строк [/val]: 2300\n",
      "http://storage.mds.yandex.net:80/get-mimcache/3715129/76bb658cb5574345847f40fb06ba822a\n",
      "http://storage.mds.yandex.net:80/get-mimcache/28728/28d7f0aa9655383474404ee1e7e8c6fc\n",
      "Кол-во обработанных строк [/val]: 2400\n",
      "Кол-во обработанных строк [/val]: 2500\n",
      "http://storage.mds.yandex.net:80/get-mimcache/4479255/22480283e941e269b9307f2bcb929e7c\n",
      "http://storage.mds.yandex.net:80/get-mimcache/145081/025d7eb0927c46c441033aa432ec6faf\n",
      "http://storage.mds.yandex.net:80/get-mimcache/4479255/60536a4c4384b83062ccf69746849969\n",
      "http://storage.mds.yandex.net:80/get-mimcache/46672/734df825a87512bc441f215b6335f95e\n",
      "Кол-во обработанных строк [/val]: 2600\n",
      "Кол-во обработанных строк [/test]: 0\n",
      "http://storage.mds.yandex.net:80/get-mimcache/4479255/3d699363e7c6b8e7ee3070350c9ce1bd\n",
      "Кол-во обработанных строк [/test]: 100\n",
      "http://storage.mds.yandex.net:80/get-mimcache/4362642/8befaf537446604d9bd33f2b3b44971e\n",
      "Кол-во обработанных строк [/test]: 200\n",
      "http://storage.mds.yandex.net:80/get-mimcache/62351/3675909c092b97196166745dbfa45c18\n",
      "http://storage.mds.yandex.net:80/get-mimcache/4368926/5720f2a1071df9a9d3649c3fca3fea1a\n",
      "http://storage.mds.yandex.net:80/get-mimcache/508726/ece7f0bc9cadfa8f33529ff0d5d1fa4d\n",
      "Кол-во обработанных строк [/test]: 300\n",
      "http://storage.mds.yandex.net:80/get-mimcache/44885/24ca615a957425a84b74d146f55940f3\n",
      "Кол-во обработанных строк [/test]: 400\n",
      "http://storage.mds.yandex.net:80/get-mimcache/4395389/1d6e961c385b469dbdb727d8f1bed131\n",
      "Кол-во обработанных строк [/test]: 500\n",
      "Кол-во обработанных строк [/test]: 600\n",
      "http://storage.mds.yandex.net:80/get-mimcache/62351/0089cbe65689ccd869fca7817034c403\n",
      "Кол-во обработанных строк [/test]: 700\n",
      "Кол-во обработанных строк [/test]: 800\n",
      "Кол-во обработанных строк [/test]: 900\n",
      "http://storage.mds.yandex.net:80/get-mimcache/4067093/612bb9e3b24a68f91757d5be1f6e5da2\n",
      "http://storage.mds.yandex.net:80/get-mimcache/141264/9c8876bf53ec9b81675e5154992bb995\n",
      "Кол-во обработанных строк [/test]: 1000\n",
      "Кол-во обработанных строк [/test]: 1100\n",
      "http://storage.mds.yandex.net:80/get-mimcache/4362642/d5d6bd37a3d872f90f2d52e6c7c46f66\n",
      "http://storage.mds.yandex.net:80/get-mimcache/60996/27eb62d0d22bb4ae9620dc78e0e0471d\n",
      "Кол-во обработанных строк [/test]: 1200\n",
      "http://storage.mds.yandex.net:80/get-mimcache/4479255/9e4542ebb770c95254b66d43e1e14ff2\n",
      "Кол-во обработанных строк [/test]: 1300\n",
      "http://storage.mds.yandex.net:80/get-mimcache/4368926/fadfe840f5fcd1987d3c0aa70569f898\n",
      "http://storage.mds.yandex.net:80/get-mimcache/113965/805639f9ee52f13e9a267ef820dae01a\n",
      "http://storage.mds.yandex.net:80/get-mimcache/26008/60ba42275073dd8549dc44864e6faee3\n",
      "Кол-во обработанных строк [/test]: 1400\n",
      "http://storage.mds.yandex.net:80/get-mimcache/4368926/9426ea47fe1e9ec10526f8521282a5fa\n"
     ]
    }
   ],
   "source": [
    "df = prepare_dataset.load_dataset(PATH)\n",
    "df = prepare_dataset.sample_dataset(df, frac=0.5)\n",
    "df = prepare_dataset.choose_toloka_answer_column(df, 'aggr_answer')\n",
    "prepare_dataset.train_test_split_df(df, 'lookup_tables/', TRAIN_TEST_RATIO, TRAIN_VALID_RATIO)\n",
    "df_train, df_val, df_test = prepare_dataset.get_lookup_tables('lookup_tables/')\n",
    "print(df_train.shape)\n",
    "print(df_train['label'].value_counts())\n",
    "print(df_val.shape)\n",
    "print(df_val['label'].value_counts())\n",
    "print(df_test.shape)\n",
    "print(df_test['label'].value_counts())\n",
    "prepare_dataset.load_pictures(df_train, df_val, df_test)"
   ]
  },
  {
   "cell_type": "markdown",
   "id": "biblical-video",
   "metadata": {},
   "source": [
    "## Step 2: Load Pytorch Dataset and dataloader"
   ]
  },
  {
   "cell_type": "code",
   "execution_count": 2,
   "id": "sublime-soccer",
   "metadata": {},
   "outputs": [],
   "source": [
    "import init_dataset_dataloader\n",
    "train, valid, test = init_dataset_dataloader.create_datasets('image_dataset/', IMAGE_SIZE)\n",
    "train_iter, valid_iter, test_iter = init_dataset_dataloader.create_dataloaders(train, valid, test, BATCH_SIZE, NUM_OF_WORKERS)"
   ]
  },
  {
   "cell_type": "markdown",
   "id": "expensive-economics",
   "metadata": {},
   "source": [
    "## Step 3: Create model"
   ]
  },
  {
   "cell_type": "code",
   "execution_count": 3,
   "id": "higher-asian",
   "metadata": {},
   "outputs": [],
   "source": [
    "import model"
   ]
  },
  {
   "cell_type": "code",
   "execution_count": 4,
   "id": "important-upset",
   "metadata": {},
   "outputs": [],
   "source": [
    "pic_model_toloka = model.create_model(MODEL_NAME).to(DEVICE)\n",
    "pic_model_toloka_2 = model.create_model(MODEL_NAME).to(DEVICE)\n",
    "pic_model_assesor = model.create_model(MODEL_NAME).to(DEVICE)"
   ]
  },
  {
   "cell_type": "markdown",
   "id": "inappropriate-collection",
   "metadata": {},
   "source": [
    "## Step 5: Training"
   ]
  },
  {
   "cell_type": "code",
   "execution_count": 12,
   "id": "cosmetic-bradford",
   "metadata": {},
   "outputs": [],
   "source": [
    "import shutil\n",
    "import os\n",
    "if os.path.isdir(DESTINATION_FOLDER):\n",
    "    shutil.rmtree(DESTINATION_FOLDER)\n",
    "os.mkdir(DESTINATION_FOLDER)"
   ]
  },
  {
   "cell_type": "code",
   "execution_count": 5,
   "id": "horizontal-phone",
   "metadata": {},
   "outputs": [],
   "source": [
    "import train_model"
   ]
  },
  {
   "cell_type": "code",
   "execution_count": 36,
   "id": "charged-terminology",
   "metadata": {},
   "outputs": [
    {
     "name": "stderr",
     "output_type": "stream",
     "text": [
      "100%|██████████| 8/8 [00:09<00:00,  1.22s/it]\n",
      "100%|██████████| 3/3 [00:02<00:00,  1.18it/s]\n"
     ]
    },
    {
     "name": "stdout",
     "output_type": "stream",
     "text": [
      "Valid_loss decreased inf --> 1.3929979801177979\n",
      "save model\n",
      "Epoch : 1 Train Loss : 0.579035 Train Acc : 0.809375\n",
      "Epoch : 1 Valid Loss : 1.392998 Valid Acc : 0.511111\n"
     ]
    },
    {
     "name": "stderr",
     "output_type": "stream",
     "text": [
      "100%|██████████| 8/8 [00:10<00:00,  1.27s/it]\n",
      "100%|██████████| 3/3 [00:02<00:00,  1.16it/s]\n"
     ]
    },
    {
     "name": "stdout",
     "output_type": "stream",
     "text": [
      "Valid_loss decreased 1.3929979801177979 --> 0.9795626302560171\n",
      "save model\n",
      "Epoch : 2 Train Loss : 0.248594 Train Acc : 0.925000\n",
      "Epoch : 2 Valid Loss : 0.979563 Valid Acc : 0.600000\n",
      "Model saved to ==> models/first_model/first_model_metrics.pt\n"
     ]
    },
    {
     "data": {
      "image/png": "[encoded data removed]",
      "text/plain": [
       "<Figure size 432x288 with 1 Axes>"
      ]
     },
     "metadata": {},
     "output_type": "display_data"
    }
   ],
   "source": [
    "import torch\n",
    "from torch import nn\n",
    "\n",
    "LR = 0.001\n",
    "EPOCHS = 2\n",
    "\n",
    "criterion = nn.CrossEntropyLoss().to(DEVICE)\n",
    "optimizer = torch.optim.Adam(pic_model_toloka.parameters(),lr = LR)\n",
    "\n",
    "trainer = ImageTrainer(DEVICE, 'first_model',use_ground_for_training=False, use_ground_for_validate=False, criterion=criterion,optimizer=optimizer)\n",
    "trainer.fit(pic_model_toloka,train_iter,valid_iter,EPOCHS, 'models')"
   ]
  },
  {
   "cell_type": "code",
   "execution_count": 30,
   "id": "second-lloyd",
   "metadata": {},
   "outputs": [
    {
     "name": "stderr",
     "output_type": "stream",
     "text": [
      "100%|██████████| 8/8 [00:10<00:00,  1.29s/it]\n",
      "100%|██████████| 3/3 [00:02<00:00,  1.08it/s]"
     ]
    },
    {
     "name": "stdout",
     "output_type": "stream",
     "text": [
      "Valid_loss decreased inf --> 1.0890665849049885\n",
      "save model\n",
      "Epoch : 1 Train Loss : 0.485945 Train Acc : 0.871875\n",
      "Epoch : 1 Valid Loss : 1.089067 Valid Acc : 0.622222\n",
      "Model saved to ==> models/True_model/True_model_metrics.pt\n"
     ]
    },
    {
     "name": "stderr",
     "output_type": "stream",
     "text": [
      "\n"
     ]
    }
   ],
   "source": [
    "import torch\n",
    "from torch import nn\n",
    "\n",
    "LR = 0.001\n",
    "EPOCHS = 1\n",
    "\n",
    "criterion = nn.CrossEntropyLoss().to(DEVICE)\n",
    "optimizer = torch.optim.Adam(pic_model_assesor.parameters(),lr = LR)\n",
    "\n",
    "trainer = ImageTrainer(DEVICE, 'True_model',use_ground_for_training=True, use_ground_for_validate=True, criterion=criterion,optimizer=optimizer)\n",
    "trainer.fit(pic_model_assesor,train_iter,valid_iter,EPOCHS, 'models')"
   ]
  },
  {
   "cell_type": "code",
   "execution_count": 31,
   "id": "latter-labor",
   "metadata": {},
   "outputs": [
    {
     "name": "stderr",
     "output_type": "stream",
     "text": [
      "100%|██████████| 8/8 [00:09<00:00,  1.21s/it]\n",
      "100%|██████████| 3/3 [00:02<00:00,  1.23it/s]"
     ]
    },
    {
     "name": "stdout",
     "output_type": "stream",
     "text": [
      "Valid_loss decreased inf --> 0.9303737680117289\n",
      "save model\n",
      "Epoch : 1 Train Loss : 0.406935 Train Acc : 0.803125\n",
      "Epoch : 1 Valid Loss : 0.930374 Valid Acc : 0.622222\n",
      "Model saved to ==> models/Second_model/Second_model_metrics.pt\n"
     ]
    },
    {
     "name": "stderr",
     "output_type": "stream",
     "text": [
      "\n"
     ]
    }
   ],
   "source": [
    "import torch\n",
    "from torch import nn\n",
    "\n",
    "LR = 0.01\n",
    "EPOCHS = 1\n",
    "\n",
    "criterion = nn.CrossEntropyLoss().to(DEVICE)\n",
    "optimizer = torch.optim.Adam(pic_model_toloka_2.parameters(),lr = LR)\n",
    "\n",
    "trainer = ImageTrainer(DEVICE, 'Second_model',use_ground_for_training=True, use_ground_for_validate=True, criterion=criterion,optimizer=optimizer)\n",
    "trainer.fit(pic_model_assesor,train_iter,valid_iter,EPOCHS, 'models')"
   ]
  },
  {
   "cell_type": "markdown",
   "id": "annoying-negotiation",
   "metadata": {},
   "source": [
    "## Step 6: Evaluation"
   ]
  },
  {
   "cell_type": "code",
   "execution_count": 60,
   "id": "devoted-polymer",
   "metadata": {},
   "outputs": [],
   "source": []
  },
  {
   "cell_type": "code",
   "execution_count": 40,
   "id": "portuguese-oriental",
   "metadata": {},
   "outputs": [],
   "source": [
    "load_checkpoint('models/first_model/first_model.pt', pic_model_toloka)\n",
    "load_checkpoint('models/True_model/True_model.pt', pic_model_toloka_2)\n",
    "load_checkpoint('models/Second_model/Second_model.pt', pic_model_assesor)"
   ]
  },
  {
   "cell_type": "code",
   "execution_count": 61,
   "id": "sacred-endorsement",
   "metadata": {},
   "outputs": [
    {
     "name": "stderr",
     "output_type": "stream",
     "text": [
      "100%|██████████| 8/8 [00:09<00:00,  1.17s/it]"
     ]
    },
    {
     "name": "stdout",
     "output_type": "stream",
     "text": [
      "Classification Report for model pic_model_toloka:\n",
      "              precision    recall  f1-score   support\n",
      "\n",
      " Bad quality     0.8462    0.7586    0.8000        29\n",
      "  OK quality     0.7885    0.9111    0.8454        45\n",
      "Good quality     0.0000    0.0000    0.0000         4\n",
      "\n",
      "    accuracy                         0.8077        78\n",
      "   macro avg     0.5449    0.5566    0.5485        78\n",
      "weighted avg     0.7695    0.8077    0.7851        78\n",
      "\n"
     ]
    },
    {
     "name": "stderr",
     "output_type": "stream",
     "text": [
      "\n",
      "/usr/local/lib/python3.7/dist-packages/sklearn/metrics/_classification.py:1308: UndefinedMetricWarning: Precision and F-score are ill-defined and being set to 0.0 in labels with no predicted samples. Use `zero_division` parameter to control this behavior.\n",
      "  _warn_prf(average, modifier, msg_start, len(result))\n",
      "/usr/local/lib/python3.7/dist-packages/sklearn/metrics/_classification.py:1308: UndefinedMetricWarning: Precision and F-score are ill-defined and being set to 0.0 in labels with no predicted samples. Use `zero_division` parameter to control this behavior.\n",
      "  _warn_prf(average, modifier, msg_start, len(result))\n",
      "/usr/local/lib/python3.7/dist-packages/sklearn/metrics/_classification.py:1308: UndefinedMetricWarning: Precision and F-score are ill-defined and being set to 0.0 in labels with no predicted samples. Use `zero_division` parameter to control this behavior.\n",
      "  _warn_prf(average, modifier, msg_start, len(result))\n"
     ]
    },
    {
     "data": {
      "image/png": "[encoded data removed]",
      "text/plain": [
       "<Figure size 432x288 with 2 Axes>"
      ]
     },
     "metadata": {},
     "output_type": "display_data"
    }
   ],
   "source": [
    "evaluate(pic_model_toloka, 'pic_model_toloka', train_iter, DEVICE)"
   ]
  },
  {
   "cell_type": "code",
   "execution_count": 62,
   "id": "prescription-massage",
   "metadata": {},
   "outputs": [],
   "source": [
    "if os.path.isdir('models'):\n",
    "    shutil.rmtree('models')\n",
    "if os.path.isdir('lookup_tables'):\n",
    "    shutil.rmtree('lookup_tables')\n",
    "if os.path.isdir('image_dataset'):\n",
    "    shutil.rmtree('image_dataset')"
   ]
  },
  {
   "cell_type": "code",
   "execution_count": null,
   "id": "chief-paragraph",
   "metadata": {},
   "outputs": [],
   "source": []
  }
 ],
 "metadata": {
  "kernelspec": {
   "display_name": "Python 3",
   "language": "python",
   "name": "python3"
  },
  "language_info": {
   "codemirror_mode": {
    "name": "ipython",
    "version": 3
   },
   "file_extension": ".py",
   "mimetype": "text/x-python",
   "name": "python",
   "nbconvert_exporter": "python",
   "pygments_lexer": "ipython3",
   "version": "3.7.5"
  }
 },
 "nbformat": 4,
 "nbformat_minor": 5
}
