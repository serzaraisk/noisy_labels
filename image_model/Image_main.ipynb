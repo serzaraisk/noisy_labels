{
 "cells": [
  {
   "cell_type": "code",
   "execution_count": null,
   "id": "latest-simpson",
   "metadata": {},
   "outputs": [],
   "source": [
    "! git init\n",
    "! git pull https://github.com/serzaraisk/noisy_labels.git"
   ]
  },
  {
   "cell_type": "markdown",
   "id": "inclusive-policy",
   "metadata": {},
   "source": [
    "## Step 0: Imports and Global variable init"
   ]
  },
  {
   "cell_type": "code",
   "execution_count": 1,
   "id": "enclosed-thing",
   "metadata": {},
   "outputs": [
    {
     "name": "stdout",
     "output_type": "stream",
     "text": [
      "cpu\n"
     ]
    }
   ],
   "source": [
    "from torch import cuda\n",
    "DEVICE = 'cuda' if cuda.is_available() else 'cpu'\n",
    "DESTINATION_FOLDER = 'models'\n",
    "DATASETS_FOLDER = 'data'\n",
    "TRAIN_TEST_RATIO = 0.1\n",
    "TRAIN_VALID_RATIO = 0.8\n",
    "FRACTION = 0.01\n",
    "SAMPLE = None\n",
    "PATH = '//home/images/dev/spochukaev/hse_diploma/image_classification'\n",
    "BATCH_SIZE = 10\n",
    "NUM_OF_WORKERS = 0\n",
    "\n",
    "MODEL_NAME = 'tf_efficientnet_b4_ns'\n",
    "efficientnet_sizes = {'tf_efficientnet_b0_ns':224,\n",
    "'tf_efficientnet_b1_ns':240,\n",
    "'tf_efficientnet_b2_ns':260,\n",
    "'tf_efficientnet_b3_ns':300,\n",
    "'tf_efficientnet_b4_ns':380,\n",
    "'tf_efficientnet_b5_ns':456,\n",
    "'tf_efficientnet_b6_ns':528,\n",
    "'tf_efficientnet_b7_ns':600\n",
    "}\n",
    "\n",
    "IMAGE_SIZE = efficientnet_sizes[MODEL_NAME]\n",
    "\n",
    "print(DEVICE)"
   ]
  },
  {
   "cell_type": "markdown",
   "id": "deluxe-transmission",
   "metadata": {},
   "source": [
    "## Step 1: Train_val_test_split data"
   ]
  },
  {
   "cell_type": "code",
   "execution_count": 2,
   "id": "spiritual-ticket",
   "metadata": {},
   "outputs": [],
   "source": [
    "import prepare_dataset"
   ]
  },
  {
   "cell_type": "code",
   "execution_count": 3,
   "id": "dietary-chart",
   "metadata": {},
   "outputs": [
    {
     "name": "stdout",
     "output_type": "stream",
     "text": [
      "Кол-во обработанных строк [/train]: 0\n",
      "http://storage.mds.yandex.net:80/get-mimcache/117819/89be5371e5083ce8359db1e01894c22f\n",
      "http://storage.mds.yandex.net:80/get-mimcache/117819/89be5371e5083ce8359db1e01894c22f\n",
      "Кол-во обработанных строк [/val]: 0\n",
      "Кол-во обработанных строк [/test]: 0\n",
      "Кол-во обработанных строк [/test]: 100\n",
      "Кол-во обработанных строк [/test]: 200\n",
      "Кол-во обработанных строк [/test]: 300\n",
      "http://storage.mds.yandex.net:80/get-mimcache/53042/0cf672f8ab2e944daf6a3b0e59a28985\n",
      "Кол-во обработанных строк [/test]: 400\n",
      "Кол-во обработанных строк [/test]: 500\n",
      "http://storage.mds.yandex.net:80/get-mimcache/48333/d1485a468f60b8c5f4cbc12aad3a5695\n",
      "Кол-во обработанных строк [/test]: 600\n",
      "http://storage.mds.yandex.net:80/get-mimcache/103011/990c356cc6f6cb3a00ed4613f3fdc619\n",
      "Кол-во обработанных строк [/test]: 700\n",
      "http://storage.mds.yandex.net:80/get-mimcache/53042/3feac0be8162cbc843c1a83b29fbad1d\n",
      "Кол-во обработанных строк [/test]: 800\n"
     ]
    }
   ],
   "source": [
    "df = prepare_dataset.load_dataset(PATH)\n",
    "df = prepare_dataset.sample_dataset(df, n=1000)\n",
    "df = prepare_dataset.choose_toloka_answer_column(df, 'aggr_answer')\n",
    "prepare_dataset.train_test_split_df(df, 'lookup_tables/', TRAIN_TEST_RATIO, TRAIN_VALID_RATIO)\n",
    "df_train, df_val, df_test = prepare_dataset.get_lookup_tables('lookup_tables/')\n",
    "prepare_dataset.load_pictures(df_train, df_val, df_test)"
   ]
  },
  {
   "cell_type": "markdown",
   "id": "employed-shame",
   "metadata": {},
   "source": [
    "## Step 2: Load Pytorch Dataset and dataloader"
   ]
  },
  {
   "cell_type": "code",
   "execution_count": 2,
   "id": "damaged-angel",
   "metadata": {},
   "outputs": [],
   "source": [
    "import init_dataset_dataloader\n",
    "train, valid, test = init_dataset_dataloader.create_datasets('image_dataset/', IMAGE_SIZE)\n",
    "train_iter, valid_iter, test_iter = init_dataset_dataloader.create_dataloaders(train, valid, test, BATCH_SIZE, NUM_OF_WORKERS)"
   ]
  },
  {
   "cell_type": "markdown",
   "id": "conditional-process",
   "metadata": {},
   "source": [
    "## Step 3: Create model"
   ]
  },
  {
   "cell_type": "code",
   "execution_count": 3,
   "id": "distributed-borough",
   "metadata": {},
   "outputs": [],
   "source": [
    "import model"
   ]
  },
  {
   "cell_type": "code",
   "execution_count": 4,
   "id": "boxed-missile",
   "metadata": {},
   "outputs": [],
   "source": [
    "pic_model_toloka = model.create_model(MODEL_NAME).to(DEVICE)\n",
    "pic_model_toloka_2 = model.create_model(MODEL_NAME).to(DEVICE)\n",
    "pic_model_assesor = model.create_model(MODEL_NAME).to(DEVICE)"
   ]
  },
  {
   "cell_type": "markdown",
   "id": "sunset-investing",
   "metadata": {},
   "source": [
    "## Step 5: Training"
   ]
  },
  {
   "cell_type": "code",
   "execution_count": 12,
   "id": "necessary-numbers",
   "metadata": {},
   "outputs": [],
   "source": [
    "import shutil\n",
    "import os\n",
    "if os.path.isdir(DESTINATION_FOLDER):\n",
    "    shutil.rmtree(DESTINATION_FOLDER)\n",
    "os.mkdir(DESTINATION_FOLDER)"
   ]
  },
  {
   "cell_type": "code",
   "execution_count": 5,
   "id": "facial-sensitivity",
   "metadata": {},
   "outputs": [],
   "source": [
    "import train_model"
   ]
  },
  {
   "cell_type": "code",
   "execution_count": 36,
   "id": "american-clinic",
   "metadata": {},
   "outputs": [
    {
     "name": "stderr",
     "output_type": "stream",
     "text": [
      "100%|██████████| 8/8 [00:09<00:00,  1.22s/it]\n",
      "100%|██████████| 3/3 [00:02<00:00,  1.18it/s]\n"
     ]
    },
    {
     "name": "stdout",
     "output_type": "stream",
     "text": [
      "Valid_loss decreased inf --> 1.3929979801177979\n",
      "save model\n",
      "Epoch : 1 Train Loss : 0.579035 Train Acc : 0.809375\n",
      "Epoch : 1 Valid Loss : 1.392998 Valid Acc : 0.511111\n"
     ]
    },
    {
     "name": "stderr",
     "output_type": "stream",
     "text": [
      "100%|██████████| 8/8 [00:10<00:00,  1.27s/it]\n",
      "100%|██████████| 3/3 [00:02<00:00,  1.16it/s]\n"
     ]
    },
    {
     "name": "stdout",
     "output_type": "stream",
     "text": [
      "Valid_loss decreased 1.3929979801177979 --> 0.9795626302560171\n",
      "save model\n",
      "Epoch : 2 Train Loss : 0.248594 Train Acc : 0.925000\n",
      "Epoch : 2 Valid Loss : 0.979563 Valid Acc : 0.600000\n",
      "Model saved to ==> models/first_model/first_model_metrics.pt\n"
     ]
    },
    {
     "data": {
      "image/png": "[encoded data removed]",
      "text/plain": [
       "<Figure size 432x288 with 1 Axes>"
      ]
     },
     "metadata": {},
     "output_type": "display_data"
    }
   ],
   "source": [
    "import torch\n",
    "from torch import nn\n",
    "\n",
    "LR = 0.001\n",
    "EPOCHS = 2\n",
    "\n",
    "criterion = nn.CrossEntropyLoss().to(DEVICE)\n",
    "optimizer = torch.optim.Adam(pic_model_toloka.parameters(),lr = LR)\n",
    "\n",
    "trainer = ImageTrainer(DEVICE, 'first_model',use_ground_for_training=False, use_ground_for_validate=False, criterion=criterion,optimizer=optimizer)\n",
    "trainer.fit(pic_model_toloka,train_iter,valid_iter,EPOCHS, 'models')"
   ]
  },
  {
   "cell_type": "code",
   "execution_count": 30,
   "id": "attended-basin",
   "metadata": {},
   "outputs": [
    {
     "name": "stderr",
     "output_type": "stream",
     "text": [
      "100%|██████████| 8/8 [00:10<00:00,  1.29s/it]\n",
      "100%|██████████| 3/3 [00:02<00:00,  1.08it/s]"
     ]
    },
    {
     "name": "stdout",
     "output_type": "stream",
     "text": [
      "Valid_loss decreased inf --> 1.0890665849049885\n",
      "save model\n",
      "Epoch : 1 Train Loss : 0.485945 Train Acc : 0.871875\n",
      "Epoch : 1 Valid Loss : 1.089067 Valid Acc : 0.622222\n",
      "Model saved to ==> models/True_model/True_model_metrics.pt\n"
     ]
    },
    {
     "name": "stderr",
     "output_type": "stream",
     "text": [
      "\n"
     ]
    }
   ],
   "source": [
    "import torch\n",
    "from torch import nn\n",
    "\n",
    "LR = 0.001\n",
    "EPOCHS = 1\n",
    "\n",
    "criterion = nn.CrossEntropyLoss().to(DEVICE)\n",
    "optimizer = torch.optim.Adam(pic_model_assesor.parameters(),lr = LR)\n",
    "\n",
    "trainer = ImageTrainer(DEVICE, 'True_model',use_ground_for_training=True, use_ground_for_validate=True, criterion=criterion,optimizer=optimizer)\n",
    "trainer.fit(pic_model_assesor,train_iter,valid_iter,EPOCHS, 'models')"
   ]
  },
  {
   "cell_type": "code",
   "execution_count": 31,
   "id": "quantitative-walter",
   "metadata": {},
   "outputs": [
    {
     "name": "stderr",
     "output_type": "stream",
     "text": [
      "100%|██████████| 8/8 [00:09<00:00,  1.21s/it]\n",
      "100%|██████████| 3/3 [00:02<00:00,  1.23it/s]"
     ]
    },
    {
     "name": "stdout",
     "output_type": "stream",
     "text": [
      "Valid_loss decreased inf --> 0.9303737680117289\n",
      "save model\n",
      "Epoch : 1 Train Loss : 0.406935 Train Acc : 0.803125\n",
      "Epoch : 1 Valid Loss : 0.930374 Valid Acc : 0.622222\n",
      "Model saved to ==> models/Second_model/Second_model_metrics.pt\n"
     ]
    },
    {
     "name": "stderr",
     "output_type": "stream",
     "text": [
      "\n"
     ]
    }
   ],
   "source": [
    "import torch\n",
    "from torch import nn\n",
    "\n",
    "LR = 0.01\n",
    "EPOCHS = 1\n",
    "\n",
    "criterion = nn.CrossEntropyLoss().to(DEVICE)\n",
    "optimizer = torch.optim.Adam(pic_model_toloka_2.parameters(),lr = LR)\n",
    "\n",
    "trainer = ImageTrainer(DEVICE, 'Second_model',use_ground_for_training=True, use_ground_for_validate=True, criterion=criterion,optimizer=optimizer)\n",
    "trainer.fit(pic_model_assesor,train_iter,valid_iter,EPOCHS, 'models')"
   ]
  },
  {
   "cell_type": "markdown",
   "id": "metallic-suite",
   "metadata": {},
   "source": [
    "## Step 6: Evaluation"
   ]
  },
  {
   "cell_type": "code",
   "execution_count": 60,
   "id": "indonesian-monroe",
   "metadata": {},
   "outputs": [],
   "source": []
  },
  {
   "cell_type": "code",
   "execution_count": 40,
   "id": "secure-lambda",
   "metadata": {},
   "outputs": [],
   "source": [
    "load_checkpoint('models/first_model/first_model.pt', pic_model_toloka)\n",
    "load_checkpoint('models/True_model/True_model.pt', pic_model_toloka_2)\n",
    "load_checkpoint('models/Second_model/Second_model.pt', pic_model_assesor)"
   ]
  },
  {
   "cell_type": "code",
   "execution_count": 61,
   "id": "removed-morocco",
   "metadata": {},
   "outputs": [
    {
     "name": "stderr",
     "output_type": "stream",
     "text": [
      "100%|██████████| 8/8 [00:09<00:00,  1.17s/it]"
     ]
    },
    {
     "name": "stdout",
     "output_type": "stream",
     "text": [
      "Classification Report for model pic_model_toloka:\n",
      "              precision    recall  f1-score   support\n",
      "\n",
      " Bad quality     0.8462    0.7586    0.8000        29\n",
      "  OK quality     0.7885    0.9111    0.8454        45\n",
      "Good quality     0.0000    0.0000    0.0000         4\n",
      "\n",
      "    accuracy                         0.8077        78\n",
      "   macro avg     0.5449    0.5566    0.5485        78\n",
      "weighted avg     0.7695    0.8077    0.7851        78\n",
      "\n"
     ]
    },
    {
     "name": "stderr",
     "output_type": "stream",
     "text": [
      "\n",
      "/usr/local/lib/python3.7/dist-packages/sklearn/metrics/_classification.py:1308: UndefinedMetricWarning: Precision and F-score are ill-defined and being set to 0.0 in labels with no predicted samples. Use `zero_division` parameter to control this behavior.\n",
      "  _warn_prf(average, modifier, msg_start, len(result))\n",
      "/usr/local/lib/python3.7/dist-packages/sklearn/metrics/_classification.py:1308: UndefinedMetricWarning: Precision and F-score are ill-defined and being set to 0.0 in labels with no predicted samples. Use `zero_division` parameter to control this behavior.\n",
      "  _warn_prf(average, modifier, msg_start, len(result))\n",
      "/usr/local/lib/python3.7/dist-packages/sklearn/metrics/_classification.py:1308: UndefinedMetricWarning: Precision and F-score are ill-defined and being set to 0.0 in labels with no predicted samples. Use `zero_division` parameter to control this behavior.\n",
      "  _warn_prf(average, modifier, msg_start, len(result))\n"
     ]
    },
    {
     "data": {
      "image/png": "[encoded data removed]",
      "text/plain": [
       "<Figure size 432x288 with 2 Axes>"
      ]
     },
     "metadata": {},
     "output_type": "display_data"
    }
   ],
   "source": [
    "evaluate(pic_model_toloka, 'pic_model_toloka', train_iter, DEVICE)"
   ]
  },
  {
   "cell_type": "code",
   "execution_count": null,
   "id": "blessed-harmony",
   "metadata": {},
   "outputs": [],
   "source": []
  }
 ],
 "metadata": {
  "kernelspec": {
   "display_name": "Python 3",
   "language": "python",
   "name": "python3"
  },
  "language_info": {
   "codemirror_mode": {
    "name": "ipython",
    "version": 3
   },
   "file_extension": ".py",
   "mimetype": "text/x-python",
   "name": "python",
   "nbconvert_exporter": "python",
   "pygments_lexer": "ipython3",
   "version": "3.7.5"
  }
 },
 "nbformat": 4,
 "nbformat_minor": 5
}
