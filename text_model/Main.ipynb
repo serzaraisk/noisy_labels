{
 "cells": [
  {
   "cell_type": "markdown",
   "id": "organizational-colonial",
   "metadata": {},
   "source": [
    "## Step 0: Imports and Global variable init"
   ]
  },
  {
   "cell_type": "code",
   "execution_count": null,
   "id": "capital-collins",
   "metadata": {},
   "outputs": [],
   "source": [
    "! pip install pymorphy2"
   ]
  },
  {
   "cell_type": "code",
   "execution_count": 8,
   "id": "ambient-alias",
   "metadata": {},
   "outputs": [
    {
     "name": "stdout",
     "output_type": "stream",
     "text": [
      "--2021-12-21 18:35:40--  http://vectors.nlpl.eu/repository/20/213.zip\n",
      "Resolving vectors.nlpl.eu (vectors.nlpl.eu)... 64:ff9b::81f0:bdb5\n",
      "Connecting to vectors.nlpl.eu (vectors.nlpl.eu)|64:ff9b::81f0:bdb5|:80... connected.\n",
      "HTTP request sent, awaiting response... 200 OK\n",
      "Length: 1485270300 (1.4G) [application/zip]\n",
      "Saving to: ‘fasttext.zip’\n",
      "\n",
      "fasttext.zip        100%[===================>]   1.38G  68.3MB/s    in 20s     \n",
      "\n",
      "2021-12-21 18:36:00 (69.7 MB/s) - ‘fasttext.zip’ saved [1485270300/1485270300]\n",
      "\n",
      "Archive:  fasttext.zip\n",
      "checkdir:  cannot create extraction directory: /fasttext\n",
      "           Permission denied\n"
     ]
    }
   ],
   "source": [
    "! wget http://vectors.nlpl.eu/repository/20/213.zip -O fasttext.zip\n",
    "! mkdir fast_text\n",
    "! unzip fasttext.zip\n",
    "! mv model.model fast_text\n",
    "! mv model.model.vectors_ngrams.npy fast_text\n",
    "! mv model.model.vectors.npy fast_text\n",
    "! mv model.model.vectors_vocab.npy fast_text\n",
    "! rm README\n",
    "! rm meta.json"
   ]
  },
  {
   "cell_type": "code",
   "execution_count": 9,
   "id": "indonesian-penalty",
   "metadata": {},
   "outputs": [],
   "source": [
    "from torch import cuda\n",
    "DEVICE = 'cuda' if cuda.is_available() else 'cpu'\n",
    "DESTINATION_FOLDER = 'models'\n",
    "DATASETS_FOLDER = 'data'\n",
    "TRAIN_TEST_RATIO = 0.1\n",
    "TRAIN_VALID_RATIO = 0.8\n",
    "print(DEVICE)"
   ]
  },
  {
   "cell_type": "code",
   "execution_count": 10,
   "id": "acting-indicator",
   "metadata": {},
   "outputs": [],
   "source": [
    "import torch.optim as optim\n",
    "import torch.nn as nn\n",
    "import torch\n",
    "\n",
    "import prepare_dataset \n",
    "import init_dataset_dataloader\n",
    "import model \n",
    "import train_model\n",
    "import evaluation\n",
    "\n",
    "import nltk\n",
    "nltk.download('stopwords')"
   ]
  },
  {
   "cell_type": "code",
   "execution_count": 1,
   "id": "popular-specific",
   "metadata": {},
   "outputs": [
    {
     "data": {
      "text/plain": [
       "'4.1.2'"
      ]
     },
     "execution_count": 1,
     "metadata": {},
     "output_type": "execute_result"
    }
   ],
   "source": [
    "import gensim\n",
    "gensim.__version__"
   ]
  },
  {
   "cell_type": "markdown",
   "id": "creative-holmes",
   "metadata": {},
   "source": [
    "## Step 1: Train_val_test_split data"
   ]
  },
  {
   "cell_type": "code",
   "execution_count": 11,
   "id": "interstate-cause",
   "metadata": {},
   "outputs": [],
   "source": [
    "#download dataset and filter language if needed\n",
    "df = prepare_dataset.load_data('text_dataset.csv', filter_language=True)\n",
    "\n",
    "# choose toloka column\n",
    "df = prepare_dataset.choose_toloka_answer_column(df, 'aggr_answer')\n",
    "\n",
    "# train_test_split dataset\n",
    "prepare_dataset.train_test_split_df(df, 'data/', TRAIN_TEST_RATIO, TRAIN_VALID_RATIO)"
   ]
  },
  {
   "cell_type": "markdown",
   "id": "floppy-victim",
   "metadata": {},
   "source": [
    "## Step 2: Load Pytorch Dataset and dataloader"
   ]
  },
  {
   "cell_type": "code",
   "execution_count": 12,
   "id": "square-lindsay",
   "metadata": {},
   "outputs": [],
   "source": [
    "train, valid, test, vocab = init_dataset_dataloader.create_dataset('data')\n",
    "train_iter, valid_iter, test_iter = init_dataset_dataloader.create_iterators(train, valid, test, DEVICE)"
   ]
  },
  {
   "cell_type": "markdown",
   "id": "sophisticated-integral",
   "metadata": {},
   "source": [
    "## Step 3: Create model"
   ]
  },
  {
   "cell_type": "code",
   "execution_count": 13,
   "id": "separate-ready",
   "metadata": {},
   "outputs": [],
   "source": [
    "fast_text_model = model.create_embed_model('fast_text/model.model')\n",
    "weight_matrix = model.create_embed_matrix(vocab, fast_text_model)\n",
    "model_cand = model.LSTM(weight_matrix).to(DEVICE)\n",
    "optimizer = optim.Adam(model_cand.parameters(), lr=0.001)\n",
    "loss = nn.BCELoss()"
   ]
  },
  {
   "cell_type": "markdown",
   "id": "apparent-criterion",
   "metadata": {},
   "source": [
    "## Step 5: Training"
   ]
  },
  {
   "cell_type": "code",
   "execution_count": 14,
   "id": "hindu-destination",
   "metadata": {},
   "outputs": [
    {
     "name": "stdout",
     "output_type": "stream",
     "text": [
      "Epoch [1/2], Step [20/80], Train Loss: 0.5681, Valid Loss: 0.4716\n",
      "Model saved to ==> models/model.pt\n",
      "Model saved to ==> models/metrics.pt\n",
      "Epoch [1/2], Step [40/80], Train Loss: 0.4744, Valid Loss: 0.4411\n",
      "Model saved to ==> models/model.pt\n",
      "Model saved to ==> models/metrics.pt\n",
      "Epoch [2/2], Step [60/80], Train Loss: 0.4186, Valid Loss: 0.4137\n",
      "Model saved to ==> models/model.pt\n",
      "Model saved to ==> models/metrics.pt\n",
      "Epoch [2/2], Step [80/80], Train Loss: 0.4228, Valid Loss: 0.3822\n",
      "Model saved to ==> models/model.pt\n",
      "Model saved to ==> models/metrics.pt\n",
      "Model saved to ==> models/metrics.pt\n",
      "Finished Training!\n"
     ]
    }
   ],
   "source": [
    "train_model.train(model=model_cand, \n",
    "            optimizer=optimizer, \n",
    "            device=DEVICE, \n",
    "            file_path=DESTINATION_FOLDER,  \n",
    "            train_loader=train_iter,\n",
    "            valid_loader=valid_iter, \n",
    "            num_epochs=2,\n",
    "            criterion=loss\n",
    "             )"
   ]
  },
  {
   "cell_type": "code",
   "execution_count": 15,
   "id": "collaborative-zealand",
   "metadata": {},
   "outputs": [
    {
     "name": "stdout",
     "output_type": "stream",
     "text": [
      "Model loaded from <== models/metrics.pt\n"
     ]
    },
    {
     "data": {
      "image/png": "[encoded data removed]",
      "text/plain": [
       "<Figure size 432x288 with 1 Axes>"
      ]
     },
     "metadata": {},
     "output_type": "display_data"
    }
   ],
   "source": [
    "evaluation.plot_metrics(DESTINATION_FOLDER, DEVICE)  "
   ]
  },
  {
   "cell_type": "markdown",
   "id": "level-shadow",
   "metadata": {},
   "source": [
    "## Step 6: Evaluation"
   ]
  },
  {
   "cell_type": "code",
   "execution_count": 16,
   "id": "geological-passion",
   "metadata": {},
   "outputs": [
    {
     "name": "stdout",
     "output_type": "stream",
     "text": [
      "Model loaded from <== models/model.pt\n",
      "Classification Report:\n",
      "              precision    recall  f1-score   support\n",
      "\n",
      "           1     1.0000    0.0110    0.0217        91\n",
      "           0     0.7143    1.0000    0.8333       225\n",
      "\n",
      "    accuracy                         0.7152       316\n",
      "   macro avg     0.8571    0.5055    0.4275       316\n",
      "weighted avg     0.7966    0.7152    0.5996       316\n",
      "\n"
     ]
    },
    {
     "data": {
      "image/png": "[encoded data removed]",
      "text/plain": [
       "<Figure size 432x288 with 2 Axes>"
      ]
     },
     "metadata": {},
     "output_type": "display_data"
    }
   ],
   "source": [
    "# Evaluation Function\n",
    "best_model = model.LSTM(weight_matrix).to(DEVICE)\n",
    "optimizer = optim.Adam(best_model.parameters(), lr=0.001)\n",
    "\n",
    "evaluation.load_checkpoint(DESTINATION_FOLDER + '/model.pt', best_model, optimizer, DEVICE)\n",
    "evaluation.evaluate(best_model, valid_iter, DEVICE)"
   ]
  }
 ],
 "metadata": {
  "kernelspec": {
   "display_name": "Python 3",
   "language": "python",
   "name": "python3"
  },
  "language_info": {
   "codemirror_mode": {
    "name": "ipython",
    "version": 3
   },
   "file_extension": ".py",
   "mimetype": "text/x-python",
   "name": "python",
   "nbconvert_exporter": "python",
   "pygments_lexer": "ipython3",
   "version": "3.7.5"
  }
 },
 "nbformat": 4,
 "nbformat_minor": 5
}
