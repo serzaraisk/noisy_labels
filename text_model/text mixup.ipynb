{
  "cells": [
    {
      "cell_type": "code",
      "source": [
        "! git init\n",
        "! git pull https://github.com/serzaraisk/noisy_labels.git"
      ],
      "metadata": {
        "colab": {
          "base_uri": "https://localhost:8080/"
        },
        "id": "ZfdwVUfIBXzh",
        "outputId": "cb39c835-f14c-4ae1-d753-c4eb1abac27d"
      },
      "id": "ZfdwVUfIBXzh",
      "execution_count": 1,
      "outputs": [
        {
          "output_type": "stream",
          "name": "stdout",
          "text": [
            "Initialized empty Git repository in /content/.git/\n",
            "remote: Enumerating objects: 139, done.\u001b[K\n",
            "remote: Counting objects: 100% (139/139), done.\u001b[K\n",
            "remote: Compressing objects: 100% (98/98), done.\u001b[K\n",
            "remote: Total 139 (delta 61), reused 114 (delta 36), pack-reused 0\u001b[K\n",
            "Receiving objects: 100% (139/139), 4.63 MiB | 3.23 MiB/s, done.\n",
            "Resolving deltas: 100% (61/61), done.\n",
            "From https://github.com/serzaraisk/noisy_labels\n",
            " * branch            HEAD       -> FETCH_HEAD\n"
          ]
        }
      ]
    },
    {
      "cell_type": "markdown",
      "id": "russian-reach",
      "metadata": {
        "id": "russian-reach"
      },
      "source": [
        "## Step 0: Imports and Global variable init"
      ]
    },
    {
      "cell_type": "code",
      "execution_count": 2,
      "id": "optional-norwegian",
      "metadata": {
        "colab": {
          "base_uri": "https://localhost:8080/"
        },
        "id": "optional-norwegian",
        "outputId": "9c2e0102-383e-436e-ba50-9019ebb1f956"
      },
      "outputs": [
        {
          "output_type": "stream",
          "name": "stdout",
          "text": [
            "--2021-12-27 14:41:15--  http://vectors.nlpl.eu/repository/20/213.zip\n",
            "Resolving vectors.nlpl.eu (vectors.nlpl.eu)... 129.240.189.181\n",
            "Connecting to vectors.nlpl.eu (vectors.nlpl.eu)|129.240.189.181|:80... connected.\n",
            "HTTP request sent, awaiting response... 200 OK\n",
            "Length: 1485270300 (1.4G) [application/zip]\n",
            "Saving to: ‘fasttext.zip’\n",
            "\n",
            "fasttext.zip        100%[===================>]   1.38G  18.4MB/s    in 80s     \n",
            "\n",
            "2021-12-27 14:42:35 (17.8 MB/s) - ‘fasttext.zip’ saved [1485270300/1485270300]\n",
            "\n",
            "Archive:  fasttext.zip\n",
            "  inflating: meta.json               \n",
            "  inflating: model.model             \n",
            "  inflating: model.model.vectors_ngrams.npy  \n",
            "  inflating: model.model.vectors.npy  \n",
            "  inflating: model.model.vectors_vocab.npy  \n",
            "  inflating: README                  \n"
          ]
        }
      ],
      "source": [
        "! wget http://vectors.nlpl.eu/repository/20/213.zip -O fasttext.zip\n",
        "! mkdir fast_text\n",
        "! unzip fasttext.zip\n",
        "! mv model.model fast_text\n",
        "! mv model.model.vectors_ngrams.npy fast_text\n",
        "! mv model.model.vectors.npy fast_text\n",
        "! mv model.model.vectors_vocab.npy fast_text\n",
        "! rm README\n",
        "! rm meta.json"
      ]
    },
    {
      "cell_type": "code",
      "source": [
        "! pip install gensim --upgrade"
      ],
      "metadata": {
        "colab": {
          "base_uri": "https://localhost:8080/"
        },
        "id": "jAA0FRKVKhGG",
        "outputId": "5d55f37e-4858-42be-aea6-9fab8ac1a4e1"
      },
      "id": "jAA0FRKVKhGG",
      "execution_count": 3,
      "outputs": [
        {
          "output_type": "stream",
          "name": "stdout",
          "text": [
            "Requirement already satisfied: gensim in /usr/local/lib/python3.7/dist-packages (3.6.0)\n",
            "Collecting gensim\n",
            "  Downloading gensim-4.1.2-cp37-cp37m-manylinux_2_12_x86_64.manylinux2010_x86_64.whl (24.1 MB)\n",
            "\u001b[K     |████████████████████████████████| 24.1 MB 1.3 MB/s \n",
            "\u001b[?25hRequirement already satisfied: numpy>=1.17.0 in /usr/local/lib/python3.7/dist-packages (from gensim) (1.19.5)\n",
            "Requirement already satisfied: smart-open>=1.8.1 in /usr/local/lib/python3.7/dist-packages (from gensim) (5.2.1)\n",
            "Requirement already satisfied: scipy>=0.18.1 in /usr/local/lib/python3.7/dist-packages (from gensim) (1.4.1)\n",
            "Installing collected packages: gensim\n",
            "  Attempting uninstall: gensim\n",
            "    Found existing installation: gensim 3.6.0\n",
            "    Uninstalling gensim-3.6.0:\n",
            "      Successfully uninstalled gensim-3.6.0\n",
            "Successfully installed gensim-4.1.2\n"
          ]
        }
      ]
    },
    {
      "cell_type": "code",
      "source": [
        "! pip install pymorphy2"
      ],
      "metadata": {
        "id": "FGu6KC-z8A9R",
        "outputId": "1ff26a17-0dd5-45cb-caf9-d8f1b369749d",
        "colab": {
          "base_uri": "https://localhost:8080/"
        }
      },
      "id": "FGu6KC-z8A9R",
      "execution_count": 4,
      "outputs": [
        {
          "output_type": "stream",
          "name": "stdout",
          "text": [
            "Collecting pymorphy2\n",
            "  Downloading pymorphy2-0.9.1-py3-none-any.whl (55 kB)\n",
            "\u001b[?25l\r\u001b[K     |██████                          | 10 kB 34.9 MB/s eta 0:00:01\r\u001b[K     |███████████▉                    | 20 kB 22.6 MB/s eta 0:00:01\r\u001b[K     |█████████████████▊              | 30 kB 17.4 MB/s eta 0:00:01\r\u001b[K     |███████████████████████▋        | 40 kB 15.8 MB/s eta 0:00:01\r\u001b[K     |█████████████████████████████▌  | 51 kB 8.6 MB/s eta 0:00:01\r\u001b[K     |████████████████████████████████| 55 kB 3.2 MB/s \n",
            "\u001b[?25hCollecting pymorphy2-dicts-ru<3.0,>=2.4\n",
            "  Downloading pymorphy2_dicts_ru-2.4.417127.4579844-py2.py3-none-any.whl (8.2 MB)\n",
            "\u001b[K     |████████████████████████████████| 8.2 MB 15.6 MB/s \n",
            "\u001b[?25hRequirement already satisfied: docopt>=0.6 in /usr/local/lib/python3.7/dist-packages (from pymorphy2) (0.6.2)\n",
            "Collecting dawg-python>=0.7.1\n",
            "  Downloading DAWG_Python-0.7.2-py2.py3-none-any.whl (11 kB)\n",
            "Installing collected packages: pymorphy2-dicts-ru, dawg-python, pymorphy2\n",
            "Successfully installed dawg-python-0.7.2 pymorphy2-0.9.1 pymorphy2-dicts-ru-2.4.417127.4579844\n"
          ]
        }
      ]
    },
    {
      "cell_type": "code",
      "source": [
        "from google.colab import drive\n",
        "drive.mount('/content/drive')"
      ],
      "metadata": {
        "id": "5Oi7mA00inPx",
        "outputId": "817c8429-3a6f-4f03-9101-0c804483db34",
        "colab": {
          "base_uri": "https://localhost:8080/"
        }
      },
      "id": "5Oi7mA00inPx",
      "execution_count": 5,
      "outputs": [
        {
          "output_type": "stream",
          "name": "stdout",
          "text": [
            "Mounted at /content/drive\n"
          ]
        }
      ]
    },
    {
      "cell_type": "code",
      "execution_count": 25,
      "id": "rolled-poland",
      "metadata": {
        "id": "rolled-poland"
      },
      "outputs": [],
      "source": [
        "from torch import cuda\n",
        "DEVICE = 'cuda' if cuda.is_available() else 'cpu'\n",
        "DESTINATION_FOLDER = 'text_model/models'\n",
        "DATASETS_FOLDER = 'data'\n",
        "TRAIN_TEST_RATIO = 0.9\n",
        "TRAIN_VALID_RATIO = 0.8"
      ]
    },
    {
      "cell_type": "code",
      "execution_count": 7,
      "id": "unusual-afternoon",
      "metadata": {
        "id": "unusual-afternoon"
      },
      "outputs": [],
      "source": [
        "import torch.optim as optim\n",
        "import torch.nn as nn\n",
        "import torch\n",
        "\n",
        "import text_model.prepare_dataset as prepare_dataset\n",
        "import text_model.init_dataset_dataloader as init_dataset_dataloader\n",
        "import text_model.model as model\n",
        "import text_model.train_model as train_model\n",
        "import text_model.evaluation as evaluation"
      ]
    },
    {
      "cell_type": "markdown",
      "id": "complicated-springer",
      "metadata": {
        "id": "complicated-springer"
      },
      "source": [
        "## Step 1: Train_val_test_split data"
      ]
    },
    {
      "cell_type": "code",
      "execution_count": 106,
      "id": "consolidated-leather",
      "metadata": {
        "id": "consolidated-leather"
      },
      "outputs": [],
      "source": [
        "#download dataset and filter language if needed\n",
        "df = prepare_dataset.load_data('text_model/text_dataset.csv', filter_language=True)\n",
        "\n",
        "# choose toloka column\n",
        "df = prepare_dataset.choose_toloka_answer_column(df, 'aggr_answer')\n",
        "\n",
        "# train_test_split dataset\n",
        "prepare_dataset.train_test_split_df(df, 'data/', TRAIN_TEST_RATIO, TRAIN_VALID_RATIO)"
      ]
    },
    {
      "cell_type": "markdown",
      "id": "decimal-valuable",
      "metadata": {
        "id": "decimal-valuable"
      },
      "source": [
        "## Step 2: Load Pytorch Dataset and dataloader"
      ]
    },
    {
      "cell_type": "code",
      "source": [
        "import nltk\n",
        "nltk.download('stopwords')"
      ],
      "metadata": {
        "id": "ZDtcHbqc8Tcg",
        "outputId": "994277d2-6770-436a-ca96-aff622229bea",
        "colab": {
          "base_uri": "https://localhost:8080/"
        }
      },
      "id": "ZDtcHbqc8Tcg",
      "execution_count": 9,
      "outputs": [
        {
          "output_type": "stream",
          "name": "stdout",
          "text": [
            "[nltk_data] Downloading package stopwords to /root/nltk_data...\n",
            "[nltk_data]   Unzipping corpora/stopwords.zip.\n"
          ]
        },
        {
          "output_type": "execute_result",
          "data": {
            "text/plain": [
              "True"
            ]
          },
          "metadata": {},
          "execution_count": 9
        }
      ]
    },
    {
      "cell_type": "code",
      "execution_count": 107,
      "id": "sharp-lounge",
      "metadata": {
        "id": "sharp-lounge"
      },
      "outputs": [],
      "source": [
        "BATCH_SIZE = 32\n",
        "\n",
        "train, valid, test, vocab = init_dataset_dataloader.create_dataset('data', 'float')\n",
        "train_iter, valid_iter, test_iter = init_dataset_dataloader.create_iterators(train, valid, test, DEVICE, BATCH_SIZE)"
      ]
    },
    {
      "cell_type": "code",
      "source": [
        ""
      ],
      "metadata": {
        "id": "Y45R9lqVicS7"
      },
      "id": "Y45R9lqVicS7",
      "execution_count": null,
      "outputs": []
    },
    {
      "cell_type": "markdown",
      "id": "positive-kelly",
      "metadata": {
        "id": "positive-kelly"
      },
      "source": [
        "## Step 3: Create model"
      ]
    },
    {
      "cell_type": "code",
      "execution_count": 108,
      "id": "stone-composer",
      "metadata": {
        "id": "stone-composer"
      },
      "outputs": [],
      "source": [
        "fast_text_model = model.create_embed_model('fast_text/model.model')\n",
        "weight_matrix = model.create_embed_matrix(vocab, fast_text_model)\n",
        "model_cand = model.LSTM(weight_matrix, dimension=128, num_layers=2).to(DEVICE)"
      ]
    },
    {
      "cell_type": "code",
      "source": [
        "optimizer = optim.Adam(model_cand.parameters(), lr=0.01)\n",
        "loss = nn.BCELoss().to(DEVICE)"
      ],
      "metadata": {
        "id": "yvdgI1O3VTZb"
      },
      "id": "yvdgI1O3VTZb",
      "execution_count": 116,
      "outputs": []
    },
    {
      "cell_type": "markdown",
      "id": "accessory-registration",
      "metadata": {
        "id": "accessory-registration"
      },
      "source": [
        "## Step 5: Training"
      ]
    },
    {
      "cell_type": "code",
      "source": [
        "from importlib import reload\n",
        "import text_model.mixup as train_model\n",
        "reload(train_model)"
      ],
      "metadata": {
        "id": "tPKji4MGXk9Z",
        "outputId": "28d53dbb-8f64-4cf6-b016-2dd047406f67",
        "colab": {
          "base_uri": "https://localhost:8080/"
        }
      },
      "id": "tPKji4MGXk9Z",
      "execution_count": 152,
      "outputs": [
        {
          "output_type": "execute_result",
          "data": {
            "text/plain": [
              "<module 'text_model.train_model_2' from '/content/text_model/train_model_2.py'>"
            ]
          },
          "metadata": {},
          "execution_count": 152
        }
      ]
    },
    {
      "cell_type": "code",
      "execution_count": 165,
      "id": "domestic-prerequisite",
      "metadata": {
        "colab": {
          "base_uri": "https://localhost:8080/"
        },
        "id": "domestic-prerequisite",
        "outputId": "ebc2a8c7-7d34-4464-a1c3-50c1a8a24ae0"
      },
      "outputs": [
        {
          "output_type": "stream",
          "name": "stderr",
          "text": [
            "\r  0%|          | 0/10 [00:00<?, ?it/s]"
          ]
        },
        {
          "output_type": "stream",
          "name": "stdout",
          "text": [
            "Epoch [1/10], Step [180/3600], Train Loss: 0.3847, Valid Loss: 0.2955\n",
            "Model saved to ==> text_model/models/mixup/model.pt\n",
            "Model saved to ==> text_model/models/mixup/metrics.pt\n"
          ]
        },
        {
          "output_type": "stream",
          "name": "stderr",
          "text": [
            "\r 10%|█         | 1/10 [00:03<00:34,  3.86s/it]"
          ]
        },
        {
          "output_type": "stream",
          "name": "stdout",
          "text": [
            "Epoch [1/10], Step [360/3600], Train Loss: 0.3058, Valid Loss: 0.2731\n",
            "Model saved to ==> text_model/models/mixup/model.pt\n",
            "Model saved to ==> text_model/models/mixup/metrics.pt\n",
            "Epoch [2/10], Step [540/3600], Train Loss: 0.2741, Valid Loss: 0.2728\n",
            "Model saved to ==> text_model/models/mixup/model.pt\n",
            "Model saved to ==> text_model/models/mixup/metrics.pt\n"
          ]
        },
        {
          "output_type": "stream",
          "name": "stderr",
          "text": [
            "\r 20%|██        | 2/10 [00:06<00:24,  3.06s/it]"
          ]
        },
        {
          "output_type": "stream",
          "name": "stdout",
          "text": [
            "Epoch [2/10], Step [720/3600], Train Loss: 0.2738, Valid Loss: 0.2566\n",
            "Model saved to ==> text_model/models/mixup/model.pt\n",
            "Model saved to ==> text_model/models/mixup/metrics.pt\n",
            "Epoch [3/10], Step [900/3600], Train Loss: 0.2510, Valid Loss: 0.2669\n"
          ]
        },
        {
          "output_type": "stream",
          "name": "stderr",
          "text": [
            "\r 30%|███       | 3/10 [00:08<00:19,  2.78s/it]"
          ]
        },
        {
          "output_type": "stream",
          "name": "stdout",
          "text": [
            "Epoch [3/10], Step [1080/3600], Train Loss: 0.2411, Valid Loss: 0.2550\n",
            "Model saved to ==> text_model/models/mixup/model.pt\n",
            "Model saved to ==> text_model/models/mixup/metrics.pt\n",
            "Epoch [4/10], Step [1260/3600], Train Loss: 0.2185, Valid Loss: 0.2701\n"
          ]
        },
        {
          "output_type": "stream",
          "name": "stderr",
          "text": [
            "\r 40%|████      | 4/10 [00:11<00:15,  2.61s/it]"
          ]
        },
        {
          "output_type": "stream",
          "name": "stdout",
          "text": [
            "Epoch [4/10], Step [1440/3600], Train Loss: 0.2285, Valid Loss: 0.2798\n",
            "Epoch [5/10], Step [1620/3600], Train Loss: 0.1937, Valid Loss: 0.2654\n"
          ]
        },
        {
          "output_type": "stream",
          "name": "stderr",
          "text": [
            "\r 50%|█████     | 5/10 [00:13<00:12,  2.53s/it]"
          ]
        },
        {
          "output_type": "stream",
          "name": "stdout",
          "text": [
            "Epoch [5/10], Step [1800/3600], Train Loss: 0.2029, Valid Loss: 0.2614\n",
            "Epoch [6/10], Step [1980/3600], Train Loss: 0.1734, Valid Loss: 0.3195\n"
          ]
        },
        {
          "output_type": "stream",
          "name": "stderr",
          "text": [
            "\r 60%|██████    | 6/10 [00:15<00:09,  2.49s/it]"
          ]
        },
        {
          "output_type": "stream",
          "name": "stdout",
          "text": [
            "Epoch [6/10], Step [2160/3600], Train Loss: 0.1677, Valid Loss: 0.3074\n",
            "Epoch [7/10], Step [2340/3600], Train Loss: 0.1416, Valid Loss: 0.3321\n"
          ]
        },
        {
          "output_type": "stream",
          "name": "stderr",
          "text": [
            "\r 70%|███████   | 7/10 [00:18<00:07,  2.44s/it]"
          ]
        },
        {
          "output_type": "stream",
          "name": "stdout",
          "text": [
            "Epoch [7/10], Step [2520/3600], Train Loss: 0.1490, Valid Loss: 0.3176\n",
            "Epoch [8/10], Step [2700/3600], Train Loss: 0.1125, Valid Loss: 0.3549\n"
          ]
        },
        {
          "output_type": "stream",
          "name": "stderr",
          "text": [
            "\r 80%|████████  | 8/10 [00:20<00:04,  2.41s/it]"
          ]
        },
        {
          "output_type": "stream",
          "name": "stdout",
          "text": [
            "Epoch [8/10], Step [2880/3600], Train Loss: 0.1339, Valid Loss: 0.3147\n",
            "Epoch [9/10], Step [3060/3600], Train Loss: 0.0942, Valid Loss: 0.4323\n"
          ]
        },
        {
          "output_type": "stream",
          "name": "stderr",
          "text": [
            "\r 90%|█████████ | 9/10 [00:22<00:02,  2.39s/it]"
          ]
        },
        {
          "output_type": "stream",
          "name": "stdout",
          "text": [
            "Epoch [9/10], Step [3240/3600], Train Loss: 0.1026, Valid Loss: 0.4750\n",
            "Epoch [10/10], Step [3420/3600], Train Loss: 0.0773, Valid Loss: 0.4753\n"
          ]
        },
        {
          "output_type": "stream",
          "name": "stderr",
          "text": [
            "100%|██████████| 10/10 [00:25<00:00,  2.54s/it]"
          ]
        },
        {
          "output_type": "stream",
          "name": "stdout",
          "text": [
            "Epoch [10/10], Step [3600/3600], Train Loss: 0.0984, Valid Loss: 0.4923\n",
            "Model saved to ==> text_model/models/mixup/metrics.pt\n",
            "Finished Training!\n"
          ]
        },
        {
          "output_type": "stream",
          "name": "stderr",
          "text": [
            "\n"
          ]
        }
      ],
      "source": [
        "model_cand = model.LSTM(weight_matrix, dimension=128, num_layers=2).to(DEVICE)\n",
        "optimizer = optim.Adam(model_cand.parameters(), lr=0.0001)\n",
        "train_model.train(model=model_cand,\n",
        "            model_name='mixup',   \n",
        "            optimizer=optimizer, \n",
        "            device=DEVICE, \n",
        "            file_path=DESTINATION_FOLDER,  \n",
        "            train_loader=train_iter,\n",
        "            valid_loader=valid_iter, \n",
        "            num_epochs=10,\n",
        "            criterion=loss\n",
        "             )"
      ]
    },
    {
      "cell_type": "code",
      "execution_count": 166,
      "id": "limited-fishing",
      "metadata": {
        "colab": {
          "base_uri": "https://localhost:8080/",
          "height": 318
        },
        "id": "limited-fishing",
        "outputId": "f9fa722d-6072-4253-a62c-c414599f513a"
      },
      "outputs": [
        {
          "output_type": "stream",
          "name": "stdout",
          "text": [
            "Model loaded from <== text_model/models/mixup/metrics.pt\n"
          ]
        },
        {
          "output_type": "display_data",
          "data": {
            "image/png": "[encoded data removed]",
            "text/plain": [
              "<Figure size 432x288 with 1 Axes>"
            ]
          },
          "metadata": {}
        }
      ],
      "source": [
        "evaluation.plot_metrics(DESTINATION_FOLDER + '/mixup', 'Mixup model', DEVICE)  "
      ]
    },
    {
      "cell_type": "markdown",
      "id": "prostate-fields",
      "metadata": {
        "id": "prostate-fields"
      },
      "source": [
        "## Step 6: Evaluation"
      ]
    },
    {
      "cell_type": "code",
      "execution_count": 167,
      "id": "buried-wallet",
      "metadata": {
        "colab": {
          "base_uri": "https://localhost:8080/",
          "height": 455
        },
        "id": "buried-wallet",
        "outputId": "0c814b22-bf3d-4b5f-8a7b-3d041f48213a"
      },
      "outputs": [
        {
          "output_type": "stream",
          "name": "stdout",
          "text": [
            "Model loaded from <== text_model/models/mixup/model.pt\n",
            "Classification Report for model Mixup_model:\n",
            "              precision    recall  f1-score   support\n",
            "\n",
            "           1     0.8588    0.5625    0.6798       400\n",
            "           0     0.8666    0.9685    0.9147      1174\n",
            "\n",
            "    accuracy                         0.8653      1574\n",
            "   macro avg     0.8627    0.7655    0.7972      1574\n",
            "weighted avg     0.8646    0.8653    0.8550      1574\n",
            "\n"
          ]
        },
        {
          "output_type": "display_data",
          "data": {
            "image/png": "[encoded data removed]",
            "text/plain": [
              "<Figure size 432x288 with 2 Axes>"
            ]
          },
          "metadata": {}
        }
      ],
      "source": [
        "# Evaluation Function\n",
        "evaluation.load_checkpoint(DESTINATION_FOLDER + '/mixup' + '/model.pt', model_cand, DEVICE)\n",
        "_, _, roc_auc = evaluation.evaluate(model_cand, 'Mixup_model', test_iter, DEVICE)"
      ]
    },
    {
      "cell_type": "code",
      "source": [
        "roc_auc"
      ],
      "metadata": {
        "colab": {
          "base_uri": "https://localhost:8080/"
        },
        "id": "NmTJQB5vRVzU",
        "outputId": "ad39aa91-626a-4942-b0f0-6a88c55e4f57"
      },
      "id": "NmTJQB5vRVzU",
      "execution_count": 168,
      "outputs": [
        {
          "output_type": "execute_result",
          "data": {
            "text/plain": [
              "0.7654919080068143"
            ]
          },
          "metadata": {},
          "execution_count": 168
        }
      ]
    },
    {
      "cell_type": "code",
      "source": [
        ""
      ],
      "metadata": {
        "id": "Ghm5j0JRqYGW"
      },
      "id": "Ghm5j0JRqYGW",
      "execution_count": null,
      "outputs": []
    }
  ],
  "metadata": {
    "kernelspec": {
      "display_name": "Python 3",
      "language": "python",
      "name": "python3"
    },
    "language_info": {
      "codemirror_mode": {
        "name": "ipython",
        "version": 3
      },
      "file_extension": ".py",
      "mimetype": "text/x-python",
      "name": "python",
      "nbconvert_exporter": "python",
      "pygments_lexer": "ipython3",
      "version": "3.7.5"
    },
    "colab": {
      "name": "Main.ipynb",
      "provenance": []
    },
    "accelerator": "GPU"
  },
  "nbformat": 4,
  "nbformat_minor": 5
}